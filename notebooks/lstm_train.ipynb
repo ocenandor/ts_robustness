{
 "cells": [
  {
   "cell_type": "code",
   "execution_count": 1,
   "id": "21deb97e-6b79-4374-914e-7d79a8565c70",
   "metadata": {},
   "outputs": [],
   "source": [
    "import sys\n",
    "from functools import partial\n",
    "\n",
    "import matplotlib.pyplot as plt\n",
    "import numpy as np\n",
    "import torch\n",
    "import torch.nn as nn\n",
    "import wandb\n",
    "from ignite.engine import (Engine, Events, create_supervised_evaluator,\n",
    "                           create_supervised_trainer)\n",
    "from ignite.handlers import ModelCheckpoint\n",
    "from ignite.metrics import Accuracy, Loss\n",
    "from scipy.io.arff import loadarff\n",
    "from sklearn.model_selection import train_test_split\n",
    "from torch import nn\n",
    "from torch.functional import F\n",
    "from torch.utils.data import DataLoader, Dataset, SubsetRandomSampler\n",
    "\n",
    "sys.path.append('../')\n",
    "from src.datasets import FordDataset\n",
    "from src.models import LSTMClassification\n",
    "from src.utils import build_optimizer, split_batch"
   ]
  },
  {
   "cell_type": "code",
   "execution_count": 9,
   "id": "4c5d8287-be20-4dc7-9558-43aa18522bc8",
   "metadata": {},
   "outputs": [],
   "source": [
    "n_splits = 1\n",
    "\n",
    "config = {\n",
    "    \"model\":{\n",
    "        \"encoder\": {\n",
    "            \"d_model\": n_splits,\n",
    "            \"nhead\": n_splits // 2,\n",
    "            \"layer_norm_eps\": 1e-3,\n",
    "            \"dropout\": 0.5\n",
    "        },\n",
    "        \"input_dim\": 1,\n",
    "        \"hidden_dim\": 100,\n",
    "        \"num_layers\": 1,\n",
    "        \"fc\":{\n",
    "            \"dim\": 50,\n",
    "            \"dropout\": 0.5\n",
    "        }\n",
    "    },\n",
    "    \"train\":{\n",
    "        \"optimizer\": torch.optim.Adam,\n",
    "        \"lr\": 3e-4,\n",
    "        \"n_epoch\": 10\n",
    "    },\n",
    "    \"random_state\": np.random.randint(0, 1000)\n",
    "}"
   ]
  },
  {
   "cell_type": "code",
   "execution_count": 10,
   "id": "d70cd6e9-6add-4087-ac03-214b50ecaf94",
   "metadata": {},
   "outputs": [],
   "source": [
    "train_path = \"../data/FordA/FordA_TRAIN.arff\"\n",
    "test_path = \"../data/FordA/FordA_TEST.arff\"\n",
    "\n",
    "train_dataset = FordDataset(train_path)\n",
    "test_dataset = FordDataset(test_path)\n",
    "\n",
    "idx = np.arange(len(train_dataset))\n",
    "idx_train, idx_val = train_test_split(idx, train_size=0.8, stratify=train_dataset.labels, random_state=config['random_state'])\n",
    "\n",
    "train_sampler = SubsetRandomSampler(idx_train)\n",
    "val_sampler = SubsetRandomSampler(idx_val)\n",
    "\n",
    "train_dataloader = DataLoader(train_dataset, batch_size=128, sampler=train_sampler, collate_fn=partial(split_batch, n_splits=n_splits))\n",
    "val_dataloader = DataLoader(train_dataset, batch_size=128, sampler=val_sampler, collate_fn=partial(split_batch, n_splits=n_splits))\n",
    "test_dataloader = DataLoader(test_dataset, batch_size=64, collate_fn=partial(split_batch, n_splits=n_splits))"
   ]
  },
  {
   "cell_type": "code",
   "execution_count": 11,
   "id": "d4590d65-4cfa-43af-b4ac-26b0021c27f6",
   "metadata": {},
   "outputs": [
    {
     "data": {
      "application/vnd.jupyter.widget-view+json": {
       "model_id": "b8f6d272bf8040b2a146eaaf9bf3f433",
       "version_major": 2,
       "version_minor": 0
      },
      "text/plain": [
       "VBox(children=(Label(value='Waiting for wandb.init()...\\r'), FloatProgress(value=0.011111111111111112, max=1.0…"
      ]
     },
     "metadata": {},
     "output_type": "display_data"
    },
    {
     "data": {
      "text/html": [
       "Tracking run with wandb version 0.16.3"
      ],
      "text/plain": [
       "<IPython.core.display.HTML object>"
      ]
     },
     "metadata": {},
     "output_type": "display_data"
    },
    {
     "data": {
      "text/html": [
       "Run data is saved locally in <code>D:\\Study\\Skoltech\\MachineLearning\\ts_robustness\\notebooks\\wandb\\run-20240303_144726-0ejeqcva</code>"
      ],
      "text/plain": [
       "<IPython.core.display.HTML object>"
      ]
     },
     "metadata": {},
     "output_type": "display_data"
    },
    {
     "data": {
      "text/html": [
       "Syncing run <strong><a href='https://wandb.ai/ts-robustness/ml-course/runs/0ejeqcva' target=\"_blank\">atomic-armadillo-215</a></strong> to <a href='https://wandb.ai/ts-robustness/ml-course' target=\"_blank\">Weights & Biases</a> (<a href='https://wandb.me/run' target=\"_blank\">docs</a>)<br/>"
      ],
      "text/plain": [
       "<IPython.core.display.HTML object>"
      ]
     },
     "metadata": {},
     "output_type": "display_data"
    },
    {
     "data": {
      "text/html": [
       " View project at <a href='https://wandb.ai/ts-robustness/ml-course' target=\"_blank\">https://wandb.ai/ts-robustness/ml-course</a>"
      ],
      "text/plain": [
       "<IPython.core.display.HTML object>"
      ]
     },
     "metadata": {},
     "output_type": "display_data"
    },
    {
     "data": {
      "text/html": [
       " View run at <a href='https://wandb.ai/ts-robustness/ml-course/runs/0ejeqcva' target=\"_blank\">https://wandb.ai/ts-robustness/ml-course/runs/0ejeqcva</a>"
      ],
      "text/plain": [
       "<IPython.core.display.HTML object>"
      ]
     },
     "metadata": {},
     "output_type": "display_data"
    },
    {
     "name": "stdout",
     "output_type": "stream",
     "text": [
      "device: cuda\n"
     ]
    }
   ],
   "source": [
    "# Initialize your model\n",
    "wandb.init(entity='ts-robustness', project='ml-course', config=config)\n",
    "device = 'cuda' if torch.cuda.is_available() else 'cpu'\n",
    "print('device:',device)"
   ]
  },
  {
   "cell_type": "code",
   "execution_count": 12,
   "id": "db106f3d-46d4-4214-8ca8-3bdc240df94e",
   "metadata": {},
   "outputs": [],
   "source": [
    "model = LSTMClassification(config['model']).to(device)"
   ]
  },
  {
   "cell_type": "code",
   "execution_count": 13,
   "id": "7eb31168-4015-43d3-a5d4-07ba6d587d9d",
   "metadata": {},
   "outputs": [
    {
     "name": "stdout",
     "output_type": "stream",
     "text": [
      "Training Results - Avg loss: 0.6922\n",
      "Training Results - Avg loss: 0.7112\n",
      "Training Results - Avg loss: 0.6928\n",
      "Training Results - Avg loss: 0.6935\n",
      "Training Results - Avg loss: 0.7114\n",
      "Training Results - Avg loss: 0.7230\n",
      "Training Results - Avg loss: 0.7016\n",
      "Training Results - Avg loss: 0.7105\n",
      "Training Results - Avg loss: 0.7239\n",
      "Training Results - Avg loss: 0.7129\n",
      "Training Results - Avg loss: 0.6979\n",
      "Training Results - Avg loss: 0.6831\n",
      "Training Results - Avg loss: 0.7052\n",
      "Training Results - Avg loss: 0.6776\n",
      "Training Results - Avg loss: 0.6892\n",
      "Training Results - Avg loss: 0.7019\n",
      "Training Results - Avg loss: 0.7138\n",
      "Training Results - Avg loss: 0.6986\n",
      "Training Results - Avg loss: 0.6866\n",
      "Training Results - Avg loss: 0.6918\n",
      "Training Results - Avg loss: 0.7001\n",
      "Training Results - Avg loss: 0.6920\n",
      "Training Results - Avg loss: 0.7139\n",
      "Training Results - Epoch: 1  Avg accuracy: 0.55 Avg loss: 0.6897\n",
      "Validation Results - Epoch: 1  Avg accuracy: 0.53 Avg loss: 0.6918\n",
      "Training Results - Avg loss: 0.6966\n",
      "Training Results - Avg loss: 0.6921\n",
      "Training Results - Avg loss: 0.6891\n",
      "Training Results - Avg loss: 0.6990\n",
      "Training Results - Avg loss: 0.7036\n",
      "Training Results - Avg loss: 0.6853\n",
      "Training Results - Avg loss: 0.6993\n",
      "Training Results - Avg loss: 0.7018\n",
      "Training Results - Avg loss: 0.6933\n",
      "Training Results - Avg loss: 0.6874\n",
      "Training Results - Avg loss: 0.6940\n",
      "Training Results - Avg loss: 0.6827\n",
      "Training Results - Avg loss: 0.6902\n",
      "Training Results - Avg loss: 0.6992\n",
      "Training Results - Avg loss: 0.6834\n",
      "Training Results - Avg loss: 0.6918\n",
      "Training Results - Avg loss: 0.6939\n",
      "Training Results - Avg loss: 0.6883\n",
      "Training Results - Avg loss: 0.6861\n",
      "Training Results - Avg loss: 0.6943\n",
      "Training Results - Avg loss: 0.6953\n",
      "Training Results - Avg loss: 0.6824\n",
      "Training Results - Avg loss: 0.6998\n",
      "Training Results - Epoch: 2  Avg accuracy: 0.52 Avg loss: 0.6856\n",
      "Validation Results - Epoch: 2  Avg accuracy: 0.52 Avg loss: 0.6884\n",
      "Training Results - Avg loss: 0.6916\n",
      "Training Results - Avg loss: 0.6934\n",
      "Training Results - Avg loss: 0.6846\n",
      "Training Results - Avg loss: 0.7015\n",
      "Training Results - Avg loss: 0.6741\n",
      "Training Results - Avg loss: 0.6836\n",
      "Training Results - Avg loss: 0.6741\n",
      "Training Results - Avg loss: 0.6806\n",
      "Training Results - Avg loss: 0.6906\n",
      "Training Results - Avg loss: 0.6874\n",
      "Training Results - Avg loss: 0.6842\n",
      "Training Results - Avg loss: 0.6769\n",
      "Training Results - Avg loss: 0.6787\n",
      "Training Results - Avg loss: 0.6741\n",
      "Training Results - Avg loss: 0.6949\n",
      "Training Results - Avg loss: 0.6911\n",
      "Training Results - Avg loss: 0.6803\n",
      "Training Results - Avg loss: 0.6913\n",
      "Training Results - Avg loss: 0.6746\n",
      "Training Results - Avg loss: 0.6799\n",
      "Training Results - Avg loss: 0.6790\n",
      "Training Results - Avg loss: 0.6719\n",
      "Training Results - Avg loss: 0.6783\n",
      "Training Results - Epoch: 3  Avg accuracy: 0.62 Avg loss: 0.6706\n",
      "Validation Results - Epoch: 3  Avg accuracy: 0.58 Avg loss: 0.6763\n",
      "Training Results - Avg loss: 0.6712\n",
      "Training Results - Avg loss: 0.6729\n",
      "Training Results - Avg loss: 0.6658\n",
      "Training Results - Avg loss: 0.6843\n",
      "Training Results - Avg loss: 0.6694\n",
      "Training Results - Avg loss: 0.6645\n",
      "Training Results - Avg loss: 0.6758\n",
      "Training Results - Avg loss: 0.6446\n",
      "Training Results - Avg loss: 0.6780\n",
      "Training Results - Avg loss: 0.6658\n",
      "Training Results - Avg loss: 0.6666\n",
      "Training Results - Avg loss: 0.6683\n",
      "Training Results - Avg loss: 0.6591\n",
      "Training Results - Avg loss: 0.6639\n",
      "Training Results - Avg loss: 0.6368\n",
      "Training Results - Avg loss: 0.6577\n",
      "Training Results - Avg loss: 0.6459\n",
      "Training Results - Avg loss: 0.6630\n",
      "Training Results - Avg loss: 0.6466\n",
      "Training Results - Avg loss: 0.6527\n",
      "Training Results - Avg loss: 0.6586\n",
      "Training Results - Avg loss: 0.6442\n",
      "Training Results - Avg loss: 0.6523\n",
      "Training Results - Epoch: 4  Avg accuracy: 0.67 Avg loss: 0.6286\n",
      "Validation Results - Epoch: 4  Avg accuracy: 0.63 Avg loss: 0.6431\n",
      "Training Results - Avg loss: 0.6377\n",
      "Training Results - Avg loss: 0.6248\n",
      "Training Results - Avg loss: 0.6517\n",
      "Training Results - Avg loss: 0.6249\n",
      "Training Results - Avg loss: 0.6258\n",
      "Training Results - Avg loss: 0.6581\n",
      "Training Results - Avg loss: 0.6591\n",
      "Training Results - Avg loss: 0.6226\n",
      "Training Results - Avg loss: 0.6676\n",
      "Training Results - Avg loss: 0.6271\n",
      "Training Results - Avg loss: 0.5873\n",
      "Training Results - Avg loss: 0.6371\n",
      "Training Results - Avg loss: 0.5910\n",
      "Training Results - Avg loss: 0.6201\n",
      "Training Results - Avg loss: 0.6244\n",
      "Training Results - Avg loss: 0.6578\n",
      "Training Results - Avg loss: 0.6362\n",
      "Training Results - Avg loss: 0.6198\n",
      "Training Results - Avg loss: 0.6747\n",
      "Training Results - Avg loss: 0.5754\n",
      "Training Results - Avg loss: 0.5879\n",
      "Training Results - Avg loss: 0.6024\n",
      "Training Results - Avg loss: 0.6571\n",
      "Training Results - Epoch: 5  Avg accuracy: 0.72 Avg loss: 0.5754\n",
      "Validation Results - Epoch: 5  Avg accuracy: 0.70 Avg loss: 0.5952\n",
      "Training Results - Avg loss: 0.6365\n",
      "Training Results - Avg loss: 0.5582\n",
      "Training Results - Avg loss: 0.6299\n",
      "Training Results - Avg loss: 0.5972\n",
      "Training Results - Avg loss: 0.5900\n",
      "Training Results - Avg loss: 0.5571\n",
      "Training Results - Avg loss: 0.5846\n",
      "Training Results - Avg loss: 0.6016\n",
      "Training Results - Avg loss: 0.6064\n",
      "Training Results - Avg loss: 0.6806\n",
      "Training Results - Avg loss: 0.6126\n",
      "Training Results - Avg loss: 0.5699\n",
      "Training Results - Avg loss: 0.5843\n",
      "Training Results - Avg loss: 0.5912\n",
      "Training Results - Avg loss: 0.6101\n",
      "Training Results - Avg loss: 0.6216\n",
      "Training Results - Avg loss: 0.5932\n",
      "Training Results - Avg loss: 0.5958\n",
      "Training Results - Avg loss: 0.5903\n",
      "Training Results - Avg loss: 0.6403\n",
      "Training Results - Avg loss: 0.5491\n",
      "Training Results - Avg loss: 0.5916\n",
      "Training Results - Avg loss: 0.6376\n",
      "Training Results - Epoch: 6  Avg accuracy: 0.74 Avg loss: 0.5486\n",
      "Validation Results - Epoch: 6  Avg accuracy: 0.69 Avg loss: 0.5882\n",
      "Training Results - Avg loss: 0.5530\n",
      "Training Results - Avg loss: 0.5184\n",
      "Training Results - Avg loss: 0.6244\n",
      "Training Results - Avg loss: 0.5733\n",
      "Training Results - Avg loss: 0.5496\n",
      "Training Results - Avg loss: 0.5575\n",
      "Training Results - Avg loss: 0.6479\n",
      "Training Results - Avg loss: 0.5170\n",
      "Training Results - Avg loss: 0.6114\n",
      "Training Results - Avg loss: 0.5746\n",
      "Training Results - Avg loss: 0.5447\n",
      "Training Results - Avg loss: 0.5147\n",
      "Training Results - Avg loss: 0.5617\n",
      "Training Results - Avg loss: 0.6193\n",
      "Training Results - Avg loss: 0.6037\n",
      "Training Results - Avg loss: 0.5769\n",
      "Training Results - Avg loss: 0.5969\n",
      "Training Results - Avg loss: 0.5848\n",
      "Training Results - Avg loss: 0.5781\n",
      "Training Results - Avg loss: 0.5417\n",
      "Training Results - Avg loss: 0.5176\n",
      "Training Results - Avg loss: 0.6121\n",
      "Training Results - Avg loss: 0.6571\n",
      "Training Results - Epoch: 7  Avg accuracy: 0.76 Avg loss: 0.5183\n",
      "Validation Results - Epoch: 7  Avg accuracy: 0.71 Avg loss: 0.5673\n",
      "Training Results - Avg loss: 0.5274\n",
      "Training Results - Avg loss: 0.6106\n",
      "Training Results - Avg loss: 0.5479\n",
      "Training Results - Avg loss: 0.5438\n",
      "Training Results - Avg loss: 0.5947\n",
      "Training Results - Avg loss: 0.5490\n",
      "Training Results - Avg loss: 0.5713\n",
      "Training Results - Avg loss: 0.5662\n",
      "Training Results - Avg loss: 0.5187\n",
      "Training Results - Avg loss: 0.5608\n",
      "Training Results - Avg loss: 0.4997\n",
      "Training Results - Avg loss: 0.5598\n",
      "Training Results - Avg loss: 0.5716\n",
      "Training Results - Avg loss: 0.5723\n",
      "Training Results - Avg loss: 0.4909\n",
      "Training Results - Avg loss: 0.5415\n",
      "Training Results - Avg loss: 0.5391\n",
      "Training Results - Avg loss: 0.5239\n",
      "Training Results - Avg loss: 0.5872\n",
      "Training Results - Avg loss: 0.5957\n",
      "Training Results - Avg loss: 0.5322\n",
      "Training Results - Avg loss: 0.5783\n",
      "Training Results - Avg loss: 0.5660\n",
      "Training Results - Epoch: 8  Avg accuracy: 0.76 Avg loss: 0.4924\n",
      "Validation Results - Epoch: 8  Avg accuracy: 0.71 Avg loss: 0.5681\n",
      "Training Results - Avg loss: 0.5401\n",
      "Training Results - Avg loss: 0.5063\n",
      "Training Results - Avg loss: 0.5130\n",
      "Training Results - Avg loss: 0.5148\n",
      "Training Results - Avg loss: 0.5351\n",
      "Training Results - Avg loss: 0.4434\n",
      "Training Results - Avg loss: 0.5701\n",
      "Training Results - Avg loss: 0.5393\n",
      "Training Results - Avg loss: 0.5238\n",
      "Training Results - Avg loss: 0.5347\n",
      "Training Results - Avg loss: 0.5585\n",
      "Training Results - Avg loss: 0.5110\n",
      "Training Results - Avg loss: 0.5913\n",
      "Training Results - Avg loss: 0.5604\n",
      "Training Results - Avg loss: 0.4963\n",
      "Training Results - Avg loss: 0.5976\n",
      "Training Results - Avg loss: 0.5977\n",
      "Training Results - Avg loss: 0.6153\n",
      "Training Results - Avg loss: 0.6076\n",
      "Training Results - Avg loss: 0.5086\n",
      "Training Results - Avg loss: 0.5871\n",
      "Training Results - Avg loss: 0.5719\n",
      "Training Results - Avg loss: 0.4988\n",
      "Training Results - Epoch: 9  Avg accuracy: 0.78 Avg loss: 0.5000\n",
      "Validation Results - Epoch: 9  Avg accuracy: 0.70 Avg loss: 0.5728\n",
      "Training Results - Avg loss: 0.5270\n",
      "Training Results - Avg loss: 0.5056\n",
      "Training Results - Avg loss: 0.5484\n",
      "Training Results - Avg loss: 0.5143\n",
      "Training Results - Avg loss: 0.4910\n",
      "Training Results - Avg loss: 0.5510\n",
      "Training Results - Avg loss: 0.5831\n",
      "Training Results - Avg loss: 0.5067\n",
      "Training Results - Avg loss: 0.5228\n",
      "Training Results - Avg loss: 0.5015\n",
      "Training Results - Avg loss: 0.5613\n",
      "Training Results - Avg loss: 0.5134\n",
      "Training Results - Avg loss: 0.5152\n",
      "Training Results - Avg loss: 0.6075\n",
      "Training Results - Avg loss: 0.4823\n",
      "Training Results - Avg loss: 0.5184\n",
      "Training Results - Avg loss: 0.4889\n",
      "Training Results - Avg loss: 0.5466\n",
      "Training Results - Avg loss: 0.5451\n",
      "Training Results - Avg loss: 0.5098\n",
      "Training Results - Avg loss: 0.5219\n",
      "Training Results - Avg loss: 0.4909\n",
      "Training Results - Avg loss: 0.4498\n",
      "Training Results - Epoch: 10  Avg accuracy: 0.79 Avg loss: 0.4644\n",
      "Validation Results - Epoch: 10  Avg accuracy: 0.74 Avg loss: 0.5675\n"
     ]
    },
    {
     "data": {
      "application/vnd.jupyter.widget-view+json": {
       "model_id": "",
       "version_major": 2,
       "version_minor": 0
      },
      "text/plain": [
       "VBox(children=(Label(value='0.001 MB of 0.038 MB uploaded\\r'), FloatProgress(value=0.03613724545431491, max=1.…"
      ]
     },
     "metadata": {},
     "output_type": "display_data"
    },
    {
     "data": {
      "text/html": [
       "<style>\n",
       "    table.wandb td:nth-child(1) { padding: 0 10px; text-align: left ; width: auto;} td:nth-child(2) {text-align: left ; width: 100%}\n",
       "    .wandb-row { display: flex; flex-direction: row; flex-wrap: wrap; justify-content: flex-start; width: 100% }\n",
       "    .wandb-col { display: flex; flex-direction: column; flex-basis: 100%; flex: 1; padding: 10px; }\n",
       "    </style>\n",
       "<div class=\"wandb-row\"><div class=\"wandb-col\"><h3>Run history:</h3><br/><table class=\"wandb\"><tr><td>train_accuracy</td><td>▂▁▄▅▆▇▇▇██</td></tr><tr><td>train_loss</td><td>██▇▇▇███▇▇▇▇▇▆▇▆▆▅▅▄▅▇▅▅▄▄▄▅▃▄▃▄▂▃▅▄▂▂▃▁</td></tr><tr><td>val_accuracy</td><td>▁▁▃▅▇▇▇▇▇█</td></tr><tr><td>val_loss</td><td>██▇▅▃▂▁▁▁▁</td></tr></table><br/></div><div class=\"wandb-col\"><h3>Run summary:</h3><br/><table class=\"wandb\"><tr><td>train_accuracy</td><td>0.79375</td></tr><tr><td>train_loss</td><td>0.46444</td></tr><tr><td>val_accuracy</td><td>0.73509</td></tr><tr><td>val_loss</td><td>0.56754</td></tr></table><br/></div></div>"
      ],
      "text/plain": [
       "<IPython.core.display.HTML object>"
      ]
     },
     "metadata": {},
     "output_type": "display_data"
    },
    {
     "data": {
      "text/html": [
       " View run <strong style=\"color:#cdcd00\">atomic-armadillo-215</strong> at: <a href='https://wandb.ai/ts-robustness/ml-course/runs/0ejeqcva' target=\"_blank\">https://wandb.ai/ts-robustness/ml-course/runs/0ejeqcva</a><br/> View job at <a href='https://wandb.ai/ts-robustness/ml-course/jobs/QXJ0aWZhY3RDb2xsZWN0aW9uOjE0NDQ0MTgyNg==/version_details/v2' target=\"_blank\">https://wandb.ai/ts-robustness/ml-course/jobs/QXJ0aWZhY3RDb2xsZWN0aW9uOjE0NDQ0MTgyNg==/version_details/v2</a><br/>Synced 6 W&B file(s), 0 media file(s), 0 artifact file(s) and 0 other file(s)"
      ],
      "text/plain": [
       "<IPython.core.display.HTML object>"
      ]
     },
     "metadata": {},
     "output_type": "display_data"
    },
    {
     "data": {
      "text/html": [
       "Find logs at: <code>.\\wandb\\run-20240303_144726-0ejeqcva\\logs</code>"
      ],
      "text/plain": [
       "<IPython.core.display.HTML object>"
      ]
     },
     "metadata": {},
     "output_type": "display_data"
    }
   ],
   "source": [
    "# Initialize your optimizer and criterion\n",
    "optimizer = build_optimizer(config, model)\n",
    "criterion = nn.BCELoss()\n",
    "\n",
    "def train_step(engine, batch):\n",
    "    model.train()\n",
    "    optimizer.zero_grad()\n",
    "    x, y = batch[0].to(device), batch[1].to(device)\n",
    "    y_pred = model(x)\n",
    "\n",
    "    #y_pred = y_pred.float()\n",
    "    #y = y.float()\n",
    "    \n",
    "    loss = criterion(y_pred, y.unsqueeze(1))\n",
    "    loss.backward()\n",
    "    optimizer.step()\n",
    "    return loss.item()\n",
    "\n",
    "trainer = Engine(train_step)\n",
    "\n",
    "def validation_step(engine, batch):\n",
    "    model.eval()\n",
    "    with torch.no_grad():\n",
    "        x, y = batch[0].to(device), batch[1].to(device)\n",
    "        y_pred = model(x)\n",
    "        return y_pred, y\n",
    "\n",
    "train_evaluator = Engine(validation_step)\n",
    "val_evaluator = Engine(validation_step)\n",
    "\n",
    "# Attach metrics to the evaluators\n",
    "metrics = {\n",
    "    'accuracy': Accuracy(output_transform=lambda x: (x[0] > 0.5, x[1])),\n",
    "    'loss': Loss(criterion, output_transform=lambda x: (x[0], x[1].unsqueeze(1)))\n",
    "}\n",
    "\n",
    "for name, metric in metrics.items():\n",
    "    metric.attach(train_evaluator, name)\n",
    "\n",
    "for name, metric in metrics.items():\n",
    "    metric.attach(val_evaluator, name)\n",
    "\n",
    "\n",
    "# checkpoint_handler = ModelCheckpoint(dirname='saved_models', filename_prefix='best',\n",
    "#                                      n_saved=1, require_empty=False,\n",
    "#                                      score_function=lambda engine: engine.state.metrics['accuracy'],\n",
    "#                                      score_name=\"accuracy\", global_step_transform=lambda *_: trainer.state.epoch)\n",
    "# val_evaluator.add_event_handler(Events.EPOCH_COMPLETED, checkpoint_handler, {\"model\": model})\n",
    "\n",
    "\n",
    "### Logging\n",
    "@trainer.on(Events.ITERATION_COMPLETED)\n",
    "def log_training_loss(trainer):\n",
    "    batch_loss = trainer.state.output\n",
    "    print(\"Training Results - Avg loss: {:.4f}\".format(batch_loss))\n",
    "    wandb.log({\"train_loss\": batch_loss})\n",
    "    \n",
    "@trainer.on(Events.EPOCH_COMPLETED)\n",
    "def log_training_results(trainer):\n",
    "    train_evaluator.run(train_dataloader)\n",
    "    metrics = train_evaluator.state.metrics\n",
    "    print(\"Training Results - Epoch: {}  Avg accuracy: {:.2f} Avg loss: {:.4f}\"\n",
    "          .format(trainer.state.epoch, metrics['accuracy'], metrics['loss']))\n",
    "    wandb.log({\"train_accuracy\": metrics['accuracy'],\n",
    "               \"train_loss\": metrics['loss']})\n",
    "\n",
    "@trainer.on(Events.EPOCH_COMPLETED)\n",
    "def log_validation_results(trainer):\n",
    "    val_evaluator.run(val_dataloader)\n",
    "    metrics = val_evaluator.state.metrics\n",
    "    print(\"Validation Results - Epoch: {}  Avg accuracy: {:.2f} Avg loss: {:.4f}\"\n",
    "          .format(trainer.state.epoch, metrics['accuracy'], metrics['loss']))\n",
    "    wandb.log({\"val_accuracy\": metrics['accuracy'],\n",
    "               \"val_loss\": metrics['loss']})\n",
    "\n",
    "\n",
    "# Run the training loop\n",
    "trainer.run(train_dataloader, max_epochs=config['train']['n_epoch'])\n",
    "wandb.finish()"
   ]
  },
  {
   "cell_type": "code",
   "execution_count": null,
   "id": "52137287-0730-4268-8eab-c06a29efb0df",
   "metadata": {},
   "outputs": [],
   "source": []
  }
 ],
 "metadata": {
  "kernelspec": {
   "display_name": "Python 3 (ipykernel)",
   "language": "python",
   "name": "python3"
  },
  "language_info": {
   "codemirror_mode": {
    "name": "ipython",
    "version": 3
   },
   "file_extension": ".py",
   "mimetype": "text/x-python",
   "name": "python",
   "nbconvert_exporter": "python",
   "pygments_lexer": "ipython3",
   "version": "3.11.5"
  }
 },
 "nbformat": 4,
 "nbformat_minor": 5
}
