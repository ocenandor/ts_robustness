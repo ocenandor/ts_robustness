{
 "cells": [
  {
   "cell_type": "code",
   "execution_count": 1,
   "id": "21deb97e-6b79-4374-914e-7d79a8565c70",
   "metadata": {},
   "outputs": [],
   "source": [
    "import sys\n",
    "import json\n",
    "from functools import partial\n",
    "\n",
    "import matplotlib.pyplot as plt\n",
    "import numpy as np\n",
    "import torch\n",
    "import torch.nn as nn\n",
    "import torch.optim.lr_scheduler as lr_scheduler\n",
    "import wandb\n",
    "from ignite.contrib.handlers import wandb_logger\n",
    "from ignite.engine import (Engine, Events, create_supervised_evaluator,\n",
    "                           create_supervised_trainer)\n",
    "from ignite.handlers import ModelCheckpoint\n",
    "from ignite.handlers.param_scheduler import LRScheduler\n",
    "from ignite.metrics import Accuracy, Loss\n",
    "from scipy.io.arff import loadarff\n",
    "from sklearn.model_selection import train_test_split\n",
    "from torch import nn\n",
    "from torch.functional import F\n",
    "from torch.utils.data import DataLoader, Dataset, SubsetRandomSampler\n",
    "\n",
    "sys.path.append('../')\n",
    "from src.datasets import FordDataset\n",
    "from src.models import LSTMClassification\n",
    "from src.utils import build_optimizer, str2torch"
   ]
  },
  {
   "cell_type": "code",
   "execution_count": 16,
   "id": "4c5d8287-be20-4dc7-9558-43aa18522bc8",
   "metadata": {},
   "outputs": [],
   "source": [
    "config = {\n",
    "    \"model\":{\n",
    "        \"lstm\": {\n",
    "            \"input_dim\": 500,\n",
    "            \"hidden_dim\": 100,\n",
    "            \"num_layers\": 2    \n",
    "        },\n",
    "        \"fc\":{\n",
    "            \"fc_dim\": 50,\n",
    "            \"dropout\": 0\n",
    "        }\n",
    "    },\n",
    "    \"train\":{\n",
    "        \"optimizer\": \"adam\",\n",
    "        \"lr\": 3e-4,\n",
    "        \"n_epoch\": 20\n",
    "    },\n",
    "    \"data\":{\n",
    "        \"seq_length\": 500,\n",
    "        \"step\": 25\n",
    "    },\n",
    "    \"random_state\": 42\n",
    "}\n",
    "\n",
    "with open(\"../configs/lstm_config.json\", 'w') as file:\n",
    "    json.dump(config, file, indent=4)"
   ]
  },
  {
   "cell_type": "code",
   "execution_count": 3,
   "id": "d70cd6e9-6add-4087-ac03-214b50ecaf94",
   "metadata": {},
   "outputs": [],
   "source": [
    "train_path = \"../data/FordA/FordA_TRAIN.arff\"\n",
    "test_path = \"../data/FordA/FordA_TEST.arff\"\n",
    "\n",
    "train_dataset = FordDataset(train_path, config['data'])\n",
    "test_dataset = FordDataset(test_path, config['data'])\n",
    "\n",
    "idx = np.arange(len(train_dataset))\n",
    "idx_train, idx_val = train_test_split(idx, train_size=0.8, stratify=train_dataset.labels, random_state=config['random_state'])\n",
    "\n",
    "train_sampler = SubsetRandomSampler(idx_train)\n",
    "val_sampler = SubsetRandomSampler(idx_val)\n",
    "\n",
    "train_dataloader = DataLoader(train_dataset, batch_size=128, sampler=train_sampler)\n",
    "val_dataloader = DataLoader(train_dataset, batch_size=128, sampler=val_sampler)\n",
    "test_dataloader = DataLoader(test_dataset, batch_size=64)"
   ]
  },
  {
   "cell_type": "code",
   "execution_count": 7,
   "id": "d4590d65-4cfa-43af-b4ac-26b0021c27f6",
   "metadata": {},
   "outputs": [
    {
     "data": {
      "text/html": [
       "Finishing last run (ID:4wl7vrb3) before initializing another..."
      ],
      "text/plain": [
       "<IPython.core.display.HTML object>"
      ]
     },
     "metadata": {},
     "output_type": "display_data"
    },
    {
     "data": {
      "application/vnd.jupyter.widget-view+json": {
       "model_id": "",
       "version_major": 2,
       "version_minor": 0
      },
      "text/plain": [
       "VBox(children=(Label(value='0.012 MB of 0.039 MB uploaded\\r'), FloatProgress(value=0.3106390177880897, max=1.0…"
      ]
     },
     "metadata": {},
     "output_type": "display_data"
    },
    {
     "data": {
      "text/html": [
       " View run <strong style=\"color:#cdcd00\">jolly-serenity-292</strong> at: <a href='https://wandb.ai/ts-robustness/ml-course/runs/4wl7vrb3' target=\"_blank\">https://wandb.ai/ts-robustness/ml-course/runs/4wl7vrb3</a><br/> View job at <a href='https://wandb.ai/ts-robustness/ml-course/jobs/QXJ0aWZhY3RDb2xsZWN0aW9uOjE0NDQ0MTgyNg==/version_details/v7' target=\"_blank\">https://wandb.ai/ts-robustness/ml-course/jobs/QXJ0aWZhY3RDb2xsZWN0aW9uOjE0NDQ0MTgyNg==/version_details/v7</a><br/>Synced 6 W&B file(s), 0 media file(s), 2 artifact file(s) and 0 other file(s)"
      ],
      "text/plain": [
       "<IPython.core.display.HTML object>"
      ]
     },
     "metadata": {},
     "output_type": "display_data"
    },
    {
     "data": {
      "text/html": [
       "Find logs at: <code>.\\wandb\\run-20240312_143440-4wl7vrb3\\logs</code>"
      ],
      "text/plain": [
       "<IPython.core.display.HTML object>"
      ]
     },
     "metadata": {},
     "output_type": "display_data"
    },
    {
     "data": {
      "text/html": [
       "Successfully finished last run (ID:4wl7vrb3). Initializing new run:<br/>"
      ],
      "text/plain": [
       "<IPython.core.display.HTML object>"
      ]
     },
     "metadata": {},
     "output_type": "display_data"
    },
    {
     "data": {
      "application/vnd.jupyter.widget-view+json": {
       "model_id": "018d96c33bca40bfb9b6fe667e27873b",
       "version_major": 2,
       "version_minor": 0
      },
      "text/plain": [
       "VBox(children=(Label(value='Waiting for wandb.init()...\\r'), FloatProgress(value=0.011111111111111112, max=1.0…"
      ]
     },
     "metadata": {},
     "output_type": "display_data"
    },
    {
     "data": {
      "text/html": [
       "wandb version 0.16.4 is available!  To upgrade, please run:\n",
       " $ pip install wandb --upgrade"
      ],
      "text/plain": [
       "<IPython.core.display.HTML object>"
      ]
     },
     "metadata": {},
     "output_type": "display_data"
    },
    {
     "data": {
      "text/html": [
       "Tracking run with wandb version 0.16.3"
      ],
      "text/plain": [
       "<IPython.core.display.HTML object>"
      ]
     },
     "metadata": {},
     "output_type": "display_data"
    },
    {
     "data": {
      "text/html": [
       "Run data is saved locally in <code>D:\\Study\\Skoltech\\MachineLearning\\ts_robustness\\notebooks\\wandb\\run-20240312_143855-jeimodxm</code>"
      ],
      "text/plain": [
       "<IPython.core.display.HTML object>"
      ]
     },
     "metadata": {},
     "output_type": "display_data"
    },
    {
     "data": {
      "text/html": [
       "Syncing run <strong><a href='https://wandb.ai/ts-robustness/ml-course/runs/jeimodxm' target=\"_blank\">decent-firefly-293</a></strong> to <a href='https://wandb.ai/ts-robustness/ml-course' target=\"_blank\">Weights & Biases</a> (<a href='https://wandb.me/run' target=\"_blank\">docs</a>)<br/>"
      ],
      "text/plain": [
       "<IPython.core.display.HTML object>"
      ]
     },
     "metadata": {},
     "output_type": "display_data"
    },
    {
     "data": {
      "text/html": [
       " View project at <a href='https://wandb.ai/ts-robustness/ml-course' target=\"_blank\">https://wandb.ai/ts-robustness/ml-course</a>"
      ],
      "text/plain": [
       "<IPython.core.display.HTML object>"
      ]
     },
     "metadata": {},
     "output_type": "display_data"
    },
    {
     "data": {
      "text/html": [
       " View run at <a href='https://wandb.ai/ts-robustness/ml-course/runs/jeimodxm' target=\"_blank\">https://wandb.ai/ts-robustness/ml-course/runs/jeimodxm</a>"
      ],
      "text/plain": [
       "<IPython.core.display.HTML object>"
      ]
     },
     "metadata": {},
     "output_type": "display_data"
    },
    {
     "name": "stdout",
     "output_type": "stream",
     "text": [
      "device: cuda\n"
     ]
    }
   ],
   "source": [
    "# Initialize your model\n",
    "wandb.init(entity='ts-robustness', project='ml-course', config=config)\n",
    "device = 'cuda' if torch.cuda.is_available() else 'cpu'\n",
    "config['train']['optimizer'] = str2torch(config['train']['optimizer'])\n",
    "print('device:',device)"
   ]
  },
  {
   "cell_type": "code",
   "execution_count": 8,
   "id": "db106f3d-46d4-4214-8ca8-3bdc240df94e",
   "metadata": {},
   "outputs": [],
   "source": [
    "model = LSTMClassification(config['model']).to(device)"
   ]
  },
  {
   "cell_type": "code",
   "execution_count": 9,
   "id": "7eb31168-4015-43d3-a5d4-07ba6d587d9d",
   "metadata": {},
   "outputs": [
    {
     "name": "stdout",
     "output_type": "stream",
     "text": [
      "Training Results - Avg loss: 0.6935\n",
      "Training Results - Avg loss: 0.6939\n",
      "Training Results - Avg loss: 0.6933\n",
      "Training Results - Avg loss: 0.6916\n",
      "Training Results - Avg loss: 0.6931\n",
      "Training Results - Avg loss: 0.6927\n",
      "Training Results - Avg loss: 0.6923\n",
      "Training Results - Avg loss: 0.6931\n",
      "Training Results - Avg loss: 0.6925\n",
      "Training Results - Avg loss: 0.6925\n",
      "Training Results - Avg loss: 0.6925\n",
      "Training Results - Avg loss: 0.6936\n",
      "Training Results - Avg loss: 0.6932\n",
      "Training Results - Avg loss: 0.6927\n",
      "Training Results - Avg loss: 0.6909\n",
      "Training Results - Avg loss: 0.6918\n",
      "Training Results - Avg loss: 0.6924\n",
      "Training Results - Avg loss: 0.6933\n",
      "Training Results - Avg loss: 0.6921\n",
      "Training Results - Avg loss: 0.6915\n",
      "Training Results - Avg loss: 0.6916\n",
      "Training Results - Avg loss: 0.6909\n",
      "Training Results - Avg loss: 0.6923\n",
      "Training Results - Epoch: 1  Avg accuracy: 0.54 Avg loss: 0.6912\n",
      "Validation Results - Epoch: 1  Avg accuracy: 0.56 Avg loss: 0.6914\n",
      "Training Results - Avg loss: 0.6909\n",
      "Training Results - Avg loss: 0.6917\n",
      "Training Results - Avg loss: 0.6909\n",
      "Training Results - Avg loss: 0.6911\n",
      "Training Results - Avg loss: 0.6917\n",
      "Training Results - Avg loss: 0.6927\n",
      "Training Results - Avg loss: 0.6888\n",
      "Training Results - Avg loss: 0.6868\n",
      "Training Results - Avg loss: 0.6935\n",
      "Training Results - Avg loss: 0.6889\n",
      "Training Results - Avg loss: 0.6913\n",
      "Training Results - Avg loss: 0.6879\n",
      "Training Results - Avg loss: 0.6942\n",
      "Training Results - Avg loss: 0.6909\n",
      "Training Results - Avg loss: 0.6867\n",
      "Training Results - Avg loss: 0.6889\n",
      "Training Results - Avg loss: 0.6891\n",
      "Training Results - Avg loss: 0.6887\n",
      "Training Results - Avg loss: 0.6877\n",
      "Training Results - Avg loss: 0.6890\n",
      "Training Results - Avg loss: 0.6891\n",
      "Training Results - Avg loss: 0.6876\n",
      "Training Results - Avg loss: 0.6916\n",
      "Training Results - Epoch: 2  Avg accuracy: 0.58 Avg loss: 0.6874\n",
      "Validation Results - Epoch: 2  Avg accuracy: 0.55 Avg loss: 0.6894\n",
      "Training Results - Avg loss: 0.6848\n",
      "Training Results - Avg loss: 0.6835\n",
      "Training Results - Avg loss: 0.6851\n",
      "Training Results - Avg loss: 0.6876\n",
      "Training Results - Avg loss: 0.6826\n",
      "Training Results - Avg loss: 0.6865\n",
      "Training Results - Avg loss: 0.6845\n",
      "Training Results - Avg loss: 0.6839\n",
      "Training Results - Avg loss: 0.6842\n",
      "Training Results - Avg loss: 0.6805\n",
      "Training Results - Avg loss: 0.6819\n",
      "Training Results - Avg loss: 0.6835\n",
      "Training Results - Avg loss: 0.6874\n",
      "Training Results - Avg loss: 0.6829\n",
      "Training Results - Avg loss: 0.6797\n",
      "Training Results - Avg loss: 0.6828\n",
      "Training Results - Avg loss: 0.6845\n",
      "Training Results - Avg loss: 0.6756\n",
      "Training Results - Avg loss: 0.6813\n",
      "Training Results - Avg loss: 0.6789\n",
      "Training Results - Avg loss: 0.6822\n",
      "Training Results - Avg loss: 0.6822\n",
      "Training Results - Avg loss: 0.6842\n",
      "Training Results - Epoch: 3  Avg accuracy: 0.66 Avg loss: 0.6748\n",
      "Validation Results - Epoch: 3  Avg accuracy: 0.64 Avg loss: 0.6784\n",
      "Training Results - Avg loss: 0.6753\n",
      "Training Results - Avg loss: 0.6720\n",
      "Training Results - Avg loss: 0.6745\n",
      "Training Results - Avg loss: 0.6760\n",
      "Training Results - Avg loss: 0.6749\n",
      "Training Results - Avg loss: 0.6643\n",
      "Training Results - Avg loss: 0.6680\n",
      "Training Results - Avg loss: 0.6776\n",
      "Training Results - Avg loss: 0.6683\n",
      "Training Results - Avg loss: 0.6747\n",
      "Training Results - Avg loss: 0.6653\n",
      "Training Results - Avg loss: 0.6596\n",
      "Training Results - Avg loss: 0.6665\n",
      "Training Results - Avg loss: 0.6624\n",
      "Training Results - Avg loss: 0.6536\n",
      "Training Results - Avg loss: 0.6612\n",
      "Training Results - Avg loss: 0.6518\n",
      "Training Results - Avg loss: 0.6626\n",
      "Training Results - Avg loss: 0.6447\n",
      "Training Results - Avg loss: 0.6480\n",
      "Training Results - Avg loss: 0.6451\n",
      "Training Results - Avg loss: 0.6486\n",
      "Training Results - Avg loss: 0.6391\n",
      "Training Results - Epoch: 4  Avg accuracy: 0.73 Avg loss: 0.6337\n",
      "Validation Results - Epoch: 4  Avg accuracy: 0.66 Avg loss: 0.6502\n",
      "Training Results - Avg loss: 0.6408\n",
      "Training Results - Avg loss: 0.6245\n",
      "Training Results - Avg loss: 0.6376\n",
      "Training Results - Avg loss: 0.6295\n",
      "Training Results - Avg loss: 0.6090\n",
      "Training Results - Avg loss: 0.6138\n",
      "Training Results - Avg loss: 0.6123\n",
      "Training Results - Avg loss: 0.6200\n",
      "Training Results - Avg loss: 0.6118\n",
      "Training Results - Avg loss: 0.6074\n",
      "Training Results - Avg loss: 0.5740\n",
      "Training Results - Avg loss: 0.6147\n",
      "Training Results - Avg loss: 0.5521\n",
      "Training Results - Avg loss: 0.5812\n",
      "Training Results - Avg loss: 0.5745\n",
      "Training Results - Avg loss: 0.5489\n",
      "Training Results - Avg loss: 0.5300\n",
      "Training Results - Avg loss: 0.5464\n",
      "Training Results - Avg loss: 0.5632\n",
      "Training Results - Avg loss: 0.5582\n",
      "Training Results - Avg loss: 0.5286\n",
      "Training Results - Avg loss: 0.5806\n",
      "Training Results - Avg loss: 0.5889\n",
      "Training Results - Epoch: 5  Avg accuracy: 0.79 Avg loss: 0.5123\n",
      "Validation Results - Epoch: 5  Avg accuracy: 0.70 Avg loss: 0.5757\n",
      "Training Results - Avg loss: 0.5045\n",
      "Training Results - Avg loss: 0.4820\n",
      "Training Results - Avg loss: 0.4884\n",
      "Training Results - Avg loss: 0.4808\n",
      "Training Results - Avg loss: 0.4891\n",
      "Training Results - Avg loss: 0.5100\n",
      "Training Results - Avg loss: 0.4252\n",
      "Training Results - Avg loss: 0.4833\n",
      "Training Results - Avg loss: 0.4725\n",
      "Training Results - Avg loss: 0.4906\n",
      "Training Results - Avg loss: 0.5109\n",
      "Training Results - Avg loss: 0.4441\n",
      "Training Results - Avg loss: 0.4627\n",
      "Training Results - Avg loss: 0.4920\n",
      "Training Results - Avg loss: 0.5082\n",
      "Training Results - Avg loss: 0.4515\n",
      "Training Results - Avg loss: 0.4447\n",
      "Training Results - Avg loss: 0.4439\n",
      "Training Results - Avg loss: 0.4661\n",
      "Training Results - Avg loss: 0.4896\n",
      "Training Results - Avg loss: 0.4971\n",
      "Training Results - Avg loss: 0.4038\n",
      "Training Results - Avg loss: 0.4180\n",
      "Training Results - Epoch: 6  Avg accuracy: 0.84 Avg loss: 0.4100\n",
      "Validation Results - Epoch: 6  Avg accuracy: 0.72 Avg loss: 0.5507\n",
      "Training Results - Avg loss: 0.4222\n",
      "Training Results - Avg loss: 0.3699\n",
      "Training Results - Avg loss: 0.4468\n",
      "Training Results - Avg loss: 0.4399\n",
      "Training Results - Avg loss: 0.3591\n",
      "Training Results - Avg loss: 0.3731\n",
      "Training Results - Avg loss: 0.4172\n",
      "Training Results - Avg loss: 0.3527\n",
      "Training Results - Avg loss: 0.4446\n",
      "Training Results - Avg loss: 0.3724\n",
      "Training Results - Avg loss: 0.3668\n",
      "Training Results - Avg loss: 0.3358\n",
      "Training Results - Avg loss: 0.4144\n",
      "Training Results - Avg loss: 0.4123\n",
      "Training Results - Avg loss: 0.4286\n",
      "Training Results - Avg loss: 0.3740\n",
      "Training Results - Avg loss: 0.3667\n",
      "Training Results - Avg loss: 0.4032\n",
      "Training Results - Avg loss: 0.4400\n",
      "Training Results - Avg loss: 0.3664\n",
      "Training Results - Avg loss: 0.3459\n",
      "Training Results - Avg loss: 0.3504\n",
      "Training Results - Avg loss: 0.3328\n",
      "Training Results - Epoch: 7  Avg accuracy: 0.88 Avg loss: 0.3334\n",
      "Validation Results - Epoch: 7  Avg accuracy: 0.73 Avg loss: 0.5439\n",
      "Training Results - Avg loss: 0.3214\n",
      "Training Results - Avg loss: 0.3934\n",
      "Training Results - Avg loss: 0.3126\n",
      "Training Results - Avg loss: 0.3576\n",
      "Training Results - Avg loss: 0.3304\n",
      "Training Results - Avg loss: 0.3025\n",
      "Training Results - Avg loss: 0.2990\n",
      "Training Results - Avg loss: 0.2912\n",
      "Training Results - Avg loss: 0.2854\n",
      "Training Results - Avg loss: 0.3232\n",
      "Training Results - Avg loss: 0.3596\n",
      "Training Results - Avg loss: 0.2978\n",
      "Training Results - Avg loss: 0.3360\n",
      "Training Results - Avg loss: 0.2562\n",
      "Training Results - Avg loss: 0.3557\n",
      "Training Results - Avg loss: 0.3168\n",
      "Training Results - Avg loss: 0.3405\n",
      "Training Results - Avg loss: 0.3094\n",
      "Training Results - Avg loss: 0.2765\n",
      "Training Results - Avg loss: 0.3141\n",
      "Training Results - Avg loss: 0.2974\n",
      "Training Results - Avg loss: 0.2857\n",
      "Training Results - Avg loss: 0.2472\n",
      "Training Results - Epoch: 8  Avg accuracy: 0.91 Avg loss: 0.2705\n",
      "Validation Results - Epoch: 8  Avg accuracy: 0.74 Avg loss: 0.5346\n",
      "Training Results - Avg loss: 0.2883\n",
      "Training Results - Avg loss: 0.3028\n",
      "Training Results - Avg loss: 0.2222\n",
      "Training Results - Avg loss: 0.2138\n",
      "Training Results - Avg loss: 0.2708\n",
      "Training Results - Avg loss: 0.2615\n",
      "Training Results - Avg loss: 0.2308\n",
      "Training Results - Avg loss: 0.2481\n",
      "Training Results - Avg loss: 0.2685\n",
      "Training Results - Avg loss: 0.2383\n",
      "Training Results - Avg loss: 0.2669\n",
      "Training Results - Avg loss: 0.3159\n",
      "Training Results - Avg loss: 0.3374\n",
      "Training Results - Avg loss: 0.2074\n",
      "Training Results - Avg loss: 0.1911\n",
      "Training Results - Avg loss: 0.2363\n",
      "Training Results - Avg loss: 0.2411\n",
      "Training Results - Avg loss: 0.1777\n",
      "Training Results - Avg loss: 0.3597\n",
      "Training Results - Avg loss: 0.2084\n",
      "Training Results - Avg loss: 0.2563\n",
      "Training Results - Avg loss: 0.2526\n",
      "Training Results - Avg loss: 0.2029\n",
      "Training Results - Epoch: 9  Avg accuracy: 0.94 Avg loss: 0.2027\n",
      "Validation Results - Epoch: 9  Avg accuracy: 0.74 Avg loss: 0.5425\n",
      "Training Results - Avg loss: 0.1999\n",
      "Training Results - Avg loss: 0.1392\n",
      "Training Results - Avg loss: 0.2089\n",
      "Training Results - Avg loss: 0.1789\n",
      "Training Results - Avg loss: 0.1570\n",
      "Training Results - Avg loss: 0.2245\n",
      "Training Results - Avg loss: 0.2273\n",
      "Training Results - Avg loss: 0.1681\n",
      "Training Results - Avg loss: 0.1530\n",
      "Training Results - Avg loss: 0.2402\n",
      "Training Results - Avg loss: 0.2431\n",
      "Training Results - Avg loss: 0.2248\n",
      "Training Results - Avg loss: 0.2128\n",
      "Training Results - Avg loss: 0.2971\n",
      "Training Results - Avg loss: 0.2252\n",
      "Training Results - Avg loss: 0.1604\n",
      "Training Results - Avg loss: 0.2762\n",
      "Training Results - Avg loss: 0.1645\n",
      "Training Results - Avg loss: 0.1827\n",
      "Training Results - Avg loss: 0.2211\n",
      "Training Results - Avg loss: 0.2074\n",
      "Training Results - Avg loss: 0.2281\n",
      "Training Results - Avg loss: 0.1488\n",
      "Training Results - Epoch: 10  Avg accuracy: 0.95 Avg loss: 0.1563\n",
      "Validation Results - Epoch: 10  Avg accuracy: 0.75 Avg loss: 0.5484\n",
      "Training Results - Avg loss: 0.1345\n",
      "Training Results - Avg loss: 0.1967\n",
      "Training Results - Avg loss: 0.1816\n",
      "Training Results - Avg loss: 0.1347\n",
      "Training Results - Avg loss: 0.1232\n",
      "Training Results - Avg loss: 0.1592\n",
      "Training Results - Avg loss: 0.1961\n",
      "Training Results - Avg loss: 0.1592\n",
      "Training Results - Avg loss: 0.1200\n",
      "Training Results - Avg loss: 0.1679\n",
      "Training Results - Avg loss: 0.0973\n",
      "Training Results - Avg loss: 0.1325\n",
      "Training Results - Avg loss: 0.1464\n",
      "Training Results - Avg loss: 0.1639\n",
      "Training Results - Avg loss: 0.1317\n",
      "Training Results - Avg loss: 0.1511\n",
      "Training Results - Avg loss: 0.1388\n",
      "Training Results - Avg loss: 0.2280\n",
      "Training Results - Avg loss: 0.1467\n",
      "Training Results - Avg loss: 0.1839\n",
      "Training Results - Avg loss: 0.1444\n",
      "Training Results - Avg loss: 0.1602\n",
      "Training Results - Avg loss: 0.1698\n",
      "Training Results - Epoch: 11  Avg accuracy: 0.97 Avg loss: 0.1213\n",
      "Validation Results - Epoch: 11  Avg accuracy: 0.75 Avg loss: 0.5571\n",
      "Training Results - Avg loss: 0.1030\n",
      "Training Results - Avg loss: 0.1538\n",
      "Training Results - Avg loss: 0.1096\n",
      "Training Results - Avg loss: 0.1049\n",
      "Training Results - Avg loss: 0.1123\n",
      "Training Results - Avg loss: 0.1578\n",
      "Training Results - Avg loss: 0.1610\n",
      "Training Results - Avg loss: 0.1369\n",
      "Training Results - Avg loss: 0.1339\n",
      "Training Results - Avg loss: 0.0834\n",
      "Training Results - Avg loss: 0.1003\n",
      "Training Results - Avg loss: 0.1286\n",
      "Training Results - Avg loss: 0.1224\n",
      "Training Results - Avg loss: 0.1108\n",
      "Training Results - Avg loss: 0.0978\n",
      "Training Results - Avg loss: 0.1183\n",
      "Training Results - Avg loss: 0.1639\n",
      "Training Results - Avg loss: 0.1197\n",
      "Training Results - Avg loss: 0.1481\n",
      "Training Results - Avg loss: 0.1048\n",
      "Training Results - Avg loss: 0.0904\n",
      "Training Results - Avg loss: 0.1795\n",
      "Training Results - Avg loss: 0.0691\n",
      "Training Results - Epoch: 12  Avg accuracy: 0.98 Avg loss: 0.0951\n",
      "Validation Results - Epoch: 12  Avg accuracy: 0.74 Avg loss: 0.6077\n",
      "Training Results - Avg loss: 0.0876\n",
      "Training Results - Avg loss: 0.0882\n",
      "Training Results - Avg loss: 0.0978\n",
      "Training Results - Avg loss: 0.1475\n",
      "Training Results - Avg loss: 0.0895\n",
      "Training Results - Avg loss: 0.1220\n",
      "Training Results - Avg loss: 0.1052\n",
      "Training Results - Avg loss: 0.0854\n",
      "Training Results - Avg loss: 0.0808\n",
      "Training Results - Avg loss: 0.0923\n",
      "Training Results - Avg loss: 0.1131\n",
      "Training Results - Avg loss: 0.1159\n",
      "Training Results - Avg loss: 0.0657\n",
      "Training Results - Avg loss: 0.1275\n",
      "Training Results - Avg loss: 0.0843\n",
      "Training Results - Avg loss: 0.0964\n",
      "Training Results - Avg loss: 0.0553\n",
      "Training Results - Avg loss: 0.0764\n",
      "Training Results - Avg loss: 0.0612\n",
      "Training Results - Avg loss: 0.1086\n",
      "Training Results - Avg loss: 0.0726\n",
      "Training Results - Avg loss: 0.0715\n",
      "Training Results - Avg loss: 0.0693\n",
      "Training Results - Epoch: 13  Avg accuracy: 0.99 Avg loss: 0.0697\n",
      "Validation Results - Epoch: 13  Avg accuracy: 0.75 Avg loss: 0.6066\n",
      "Training Results - Avg loss: 0.0563\n",
      "Training Results - Avg loss: 0.0700\n",
      "Training Results - Avg loss: 0.0533\n",
      "Training Results - Avg loss: 0.0687\n",
      "Training Results - Avg loss: 0.0786\n",
      "Training Results - Avg loss: 0.0558\n",
      "Training Results - Avg loss: 0.0520\n",
      "Training Results - Avg loss: 0.0688\n",
      "Training Results - Avg loss: 0.0395\n",
      "Training Results - Avg loss: 0.0921\n",
      "Training Results - Avg loss: 0.0800\n",
      "Training Results - Avg loss: 0.0932\n",
      "Training Results - Avg loss: 0.0704\n",
      "Training Results - Avg loss: 0.0382\n",
      "Training Results - Avg loss: 0.0780\n",
      "Training Results - Avg loss: 0.0537\n",
      "Training Results - Avg loss: 0.1075\n",
      "Training Results - Avg loss: 0.0545\n",
      "Training Results - Avg loss: 0.0569\n",
      "Training Results - Avg loss: 0.0910\n",
      "Training Results - Avg loss: 0.0553\n",
      "Training Results - Avg loss: 0.0648\n",
      "Training Results - Avg loss: 0.1309\n",
      "Training Results - Epoch: 14  Avg accuracy: 0.99 Avg loss: 0.0573\n",
      "Validation Results - Epoch: 14  Avg accuracy: 0.75 Avg loss: 0.6239\n",
      "Training Results - Avg loss: 0.0771\n",
      "Training Results - Avg loss: 0.0503\n",
      "Training Results - Avg loss: 0.0599\n",
      "Training Results - Avg loss: 0.0611\n",
      "Training Results - Avg loss: 0.0586\n",
      "Training Results - Avg loss: 0.0503\n",
      "Training Results - Avg loss: 0.0574\n",
      "Training Results - Avg loss: 0.0714\n",
      "Training Results - Avg loss: 0.0477\n",
      "Training Results - Avg loss: 0.0526\n",
      "Training Results - Avg loss: 0.0555\n",
      "Training Results - Avg loss: 0.0461\n",
      "Training Results - Avg loss: 0.0608\n",
      "Training Results - Avg loss: 0.0379\n",
      "Training Results - Avg loss: 0.0333\n",
      "Training Results - Avg loss: 0.0616\n",
      "Training Results - Avg loss: 0.0660\n",
      "Training Results - Avg loss: 0.1028\n",
      "Training Results - Avg loss: 0.0888\n",
      "Training Results - Avg loss: 0.0640\n",
      "Training Results - Avg loss: 0.0461\n",
      "Training Results - Avg loss: 0.0306\n",
      "Training Results - Avg loss: 0.0875\n",
      "Training Results - Epoch: 15  Avg accuracy: 0.99 Avg loss: 0.0466\n",
      "Validation Results - Epoch: 15  Avg accuracy: 0.76 Avg loss: 0.6419\n",
      "Training Results - Avg loss: 0.0420\n",
      "Training Results - Avg loss: 0.0346\n",
      "Training Results - Avg loss: 0.0520\n",
      "Training Results - Avg loss: 0.0420\n",
      "Training Results - Avg loss: 0.0497\n",
      "Training Results - Avg loss: 0.0917\n",
      "Training Results - Avg loss: 0.0523\n",
      "Training Results - Avg loss: 0.0507\n",
      "Training Results - Avg loss: 0.0324\n",
      "Training Results - Avg loss: 0.0538\n",
      "Training Results - Avg loss: 0.0369\n",
      "Training Results - Avg loss: 0.0349\n",
      "Training Results - Avg loss: 0.0319\n",
      "Training Results - Avg loss: 0.0508\n",
      "Training Results - Avg loss: 0.0462\n",
      "Training Results - Avg loss: 0.0489\n",
      "Training Results - Avg loss: 0.0472\n",
      "Training Results - Avg loss: 0.0462\n",
      "Training Results - Avg loss: 0.0398\n",
      "Training Results - Avg loss: 0.0946\n",
      "Training Results - Avg loss: 0.0432\n",
      "Training Results - Avg loss: 0.0510\n",
      "Training Results - Avg loss: 0.0299\n",
      "Training Results - Epoch: 16  Avg accuracy: 0.99 Avg loss: 0.0359\n",
      "Validation Results - Epoch: 16  Avg accuracy: 0.74 Avg loss: 0.7258\n",
      "Training Results - Avg loss: 0.0406\n",
      "Training Results - Avg loss: 0.0292\n",
      "Training Results - Avg loss: 0.0656\n",
      "Training Results - Avg loss: 0.0371\n",
      "Training Results - Avg loss: 0.0285\n",
      "Training Results - Avg loss: 0.0201\n",
      "Training Results - Avg loss: 0.0336\n",
      "Training Results - Avg loss: 0.0252\n",
      "Training Results - Avg loss: 0.0339\n",
      "Training Results - Avg loss: 0.0584\n",
      "Training Results - Avg loss: 0.0407\n",
      "Training Results - Avg loss: 0.0360\n",
      "Training Results - Avg loss: 0.0301\n",
      "Training Results - Avg loss: 0.0425\n",
      "Training Results - Avg loss: 0.0222\n",
      "Training Results - Avg loss: 0.0342\n",
      "Training Results - Avg loss: 0.0314\n",
      "Training Results - Avg loss: 0.0397\n",
      "Training Results - Avg loss: 0.0340\n",
      "Training Results - Avg loss: 0.0779\n",
      "Training Results - Avg loss: 0.0279\n",
      "Training Results - Avg loss: 0.0325\n",
      "Training Results - Avg loss: 0.0612\n",
      "Training Results - Epoch: 17  Avg accuracy: 1.00 Avg loss: 0.0321\n",
      "Validation Results - Epoch: 17  Avg accuracy: 0.75 Avg loss: 0.7528\n",
      "Training Results - Avg loss: 0.0308\n",
      "Training Results - Avg loss: 0.0237\n",
      "Training Results - Avg loss: 0.0428\n",
      "Training Results - Avg loss: 0.0185\n",
      "Training Results - Avg loss: 0.0280\n",
      "Training Results - Avg loss: 0.0203\n",
      "Training Results - Avg loss: 0.0227\n",
      "Training Results - Avg loss: 0.0316\n",
      "Training Results - Avg loss: 0.0196\n",
      "Training Results - Avg loss: 0.0236\n",
      "Training Results - Avg loss: 0.0254\n",
      "Training Results - Avg loss: 0.0396\n",
      "Training Results - Avg loss: 0.0708\n",
      "Training Results - Avg loss: 0.0195\n",
      "Training Results - Avg loss: 0.0220\n",
      "Training Results - Avg loss: 0.0383\n",
      "Training Results - Avg loss: 0.0237\n",
      "Training Results - Avg loss: 0.0464\n",
      "Training Results - Avg loss: 0.0150\n",
      "Training Results - Avg loss: 0.0181\n",
      "Training Results - Avg loss: 0.0388\n",
      "Training Results - Avg loss: 0.0490\n",
      "Training Results - Avg loss: 0.0273\n",
      "Training Results - Epoch: 18  Avg accuracy: 1.00 Avg loss: 0.0249\n",
      "Validation Results - Epoch: 18  Avg accuracy: 0.74 Avg loss: 0.7834\n",
      "Training Results - Avg loss: 0.0229\n",
      "Training Results - Avg loss: 0.0227\n",
      "Training Results - Avg loss: 0.0159\n",
      "Training Results - Avg loss: 0.0169\n",
      "Training Results - Avg loss: 0.0316\n",
      "Training Results - Avg loss: 0.0309\n",
      "Training Results - Avg loss: 0.0280\n",
      "Training Results - Avg loss: 0.0288\n",
      "Training Results - Avg loss: 0.0363\n",
      "Training Results - Avg loss: 0.0237\n",
      "Training Results - Avg loss: 0.0240\n",
      "Training Results - Avg loss: 0.0150\n",
      "Training Results - Avg loss: 0.0234\n",
      "Training Results - Avg loss: 0.0218\n",
      "Training Results - Avg loss: 0.0210\n",
      "Training Results - Avg loss: 0.0688\n",
      "Training Results - Avg loss: 0.0177\n",
      "Training Results - Avg loss: 0.0295\n",
      "Training Results - Avg loss: 0.0219\n",
      "Training Results - Avg loss: 0.0179\n",
      "Training Results - Avg loss: 0.0297\n",
      "Training Results - Avg loss: 0.0331\n",
      "Training Results - Avg loss: 0.0275\n",
      "Training Results - Epoch: 19  Avg accuracy: 1.00 Avg loss: 0.0212\n",
      "Validation Results - Epoch: 19  Avg accuracy: 0.74 Avg loss: 0.8387\n",
      "Training Results - Avg loss: 0.0221\n",
      "Training Results - Avg loss: 0.0193\n",
      "Training Results - Avg loss: 0.0262\n",
      "Training Results - Avg loss: 0.0287\n",
      "Training Results - Avg loss: 0.0197\n",
      "Training Results - Avg loss: 0.0490\n",
      "Training Results - Avg loss: 0.0124\n",
      "Training Results - Avg loss: 0.0155\n",
      "Training Results - Avg loss: 0.0167\n",
      "Training Results - Avg loss: 0.0258\n",
      "Training Results - Avg loss: 0.0294\n",
      "Training Results - Avg loss: 0.0138\n",
      "Training Results - Avg loss: 0.0154\n",
      "Training Results - Avg loss: 0.0272\n",
      "Training Results - Avg loss: 0.0239\n",
      "Training Results - Avg loss: 0.0295\n",
      "Training Results - Avg loss: 0.0210\n",
      "Training Results - Avg loss: 0.0238\n",
      "Training Results - Avg loss: 0.0213\n",
      "Training Results - Avg loss: 0.0215\n",
      "Training Results - Avg loss: 0.0223\n",
      "Training Results - Avg loss: 0.0057\n",
      "Training Results - Avg loss: 0.0280\n",
      "Training Results - Epoch: 20  Avg accuracy: 1.00 Avg loss: 0.0182\n",
      "Validation Results - Epoch: 20  Avg accuracy: 0.74 Avg loss: 0.8504\n"
     ]
    },
    {
     "data": {
      "application/vnd.jupyter.widget-view+json": {
       "model_id": "",
       "version_major": 2,
       "version_minor": 0
      },
      "text/plain": [
       "VBox(children=(Label(value='0.013 MB of 0.059 MB uploaded (0.008 MB deduped)\\r'), FloatProgress(value=0.219943…"
      ]
     },
     "metadata": {},
     "output_type": "display_data"
    },
    {
     "data": {
      "text/html": [
       "W&B sync reduced upload amount by 12.9%             "
      ],
      "text/plain": [
       "<IPython.core.display.HTML object>"
      ]
     },
     "metadata": {},
     "output_type": "display_data"
    },
    {
     "data": {
      "text/html": [
       "<style>\n",
       "    table.wandb td:nth-child(1) { padding: 0 10px; text-align: left ; width: auto;} td:nth-child(2) {text-align: left ; width: 100%}\n",
       "    .wandb-row { display: flex; flex-direction: row; flex-wrap: wrap; justify-content: flex-start; width: 100% }\n",
       "    .wandb-col { display: flex; flex-direction: column; flex-basis: 100%; flex: 1; padding: 10px; }\n",
       "    </style>\n",
       "<div class=\"wandb-row\"><div class=\"wandb-col\"><h3>Run history:</h3><br/><table class=\"wandb\"><tr><td>train_accuracy</td><td>▁▂▃▄▅▆▆▇▇▇▇█████████</td></tr><tr><td>train_loss</td><td>████████▇▇▆▆▅▅▅▄▃▃▃▂▂▃▂▂▂▂▂▂▂▂▁▂▁▂▁▁▁▁▁▁</td></tr><tr><td>val_accuracy</td><td>▁▁▄▅▆▇▇▇▇██▇███▇█▇█▇</td></tr><tr><td>val_loss</td><td>▄▄▄▄▂▁▁▁▁▁▁▃▃▃▃▅▆▇██</td></tr></table><br/></div><div class=\"wandb-col\"><h3>Run summary:</h3><br/><table class=\"wandb\"><tr><td>train_accuracy</td><td>0.99687</td></tr><tr><td>train_loss</td><td>0.01823</td></tr><tr><td>val_accuracy</td><td>0.74202</td></tr><tr><td>val_loss</td><td>0.85036</td></tr></table><br/></div></div>"
      ],
      "text/plain": [
       "<IPython.core.display.HTML object>"
      ]
     },
     "metadata": {},
     "output_type": "display_data"
    },
    {
     "data": {
      "text/html": [
       " View run <strong style=\"color:#cdcd00\">decent-firefly-293</strong> at: <a href='https://wandb.ai/ts-robustness/ml-course/runs/jeimodxm' target=\"_blank\">https://wandb.ai/ts-robustness/ml-course/runs/jeimodxm</a><br/> View job at <a href='https://wandb.ai/ts-robustness/ml-course/jobs/QXJ0aWZhY3RDb2xsZWN0aW9uOjE0NDQ0MTgyNg==/version_details/v8' target=\"_blank\">https://wandb.ai/ts-robustness/ml-course/jobs/QXJ0aWZhY3RDb2xsZWN0aW9uOjE0NDQ0MTgyNg==/version_details/v8</a><br/>Synced 6 W&B file(s), 0 media file(s), 2 artifact file(s) and 0 other file(s)"
      ],
      "text/plain": [
       "<IPython.core.display.HTML object>"
      ]
     },
     "metadata": {},
     "output_type": "display_data"
    },
    {
     "data": {
      "text/html": [
       "Find logs at: <code>.\\wandb\\run-20240312_143855-jeimodxm\\logs</code>"
      ],
      "text/plain": [
       "<IPython.core.display.HTML object>"
      ]
     },
     "metadata": {},
     "output_type": "display_data"
    }
   ],
   "source": [
    "# Initialize your optimizer and criterion\n",
    "optimizer = build_optimizer(config, model)\n",
    "criterion = nn.BCELoss()\n",
    "\n",
    "def train_step(engine, batch):\n",
    "    model.train()\n",
    "    optimizer.zero_grad()\n",
    "    x, y = batch[0].to(device), batch[1].to(device)\n",
    "    y_pred = model(x)\n",
    "    \n",
    "    loss = criterion(y_pred, y.unsqueeze(1))\n",
    "    loss.backward()\n",
    "    optimizer.step()\n",
    "    return loss.item()\n",
    "\n",
    "trainer = Engine(train_step)\n",
    "\n",
    "def validation_step(engine, batch):\n",
    "    model.eval()\n",
    "    with torch.no_grad():\n",
    "        x, y = batch[0].to(device), batch[1].to(device)\n",
    "        y_pred = model(x)\n",
    "        return y_pred, y\n",
    "\n",
    "train_evaluator = Engine(validation_step)\n",
    "val_evaluator = Engine(validation_step)\n",
    "\n",
    "# Attach metrics to the evaluators\n",
    "metrics = {\n",
    "    'accuracy': Accuracy(output_transform=lambda x: (x[0] > 0.5, x[1])),\n",
    "    'loss': Loss(criterion, output_transform=lambda x: (x[0], x[1].unsqueeze(1)))\n",
    "}\n",
    "\n",
    "for name, metric in metrics.items():\n",
    "    metric.attach(train_evaluator, name)\n",
    "\n",
    "for name, metric in metrics.items():\n",
    "    metric.attach(val_evaluator, name)\n",
    "\n",
    "\n",
    "# checkpoint_handler = ModelCheckpoint(dirname='saved_models', filename_prefix='best',\n",
    "#                                      n_saved=1, require_empty=False,\n",
    "#                                      score_function=lambda engine: engine.state.metrics['accuracy'],\n",
    "#                                      score_name=\"accuracy\", global_step_transform=lambda *_: trainer.state.epoch)\n",
    "# val_evaluator.add_event_handler(Events.EPOCH_COMPLETED, checkpoint_handler, {\"model\": model})\n",
    "\n",
    "\n",
    "### Logging\n",
    "@trainer.on(Events.ITERATION_COMPLETED)\n",
    "def log_training_loss(trainer):\n",
    "    batch_loss = trainer.state.output\n",
    "    print(\"Training Results - Avg loss: {:.4f}\".format(batch_loss))\n",
    "    wandb.log({\"train_loss\": batch_loss})\n",
    "    \n",
    "@trainer.on(Events.EPOCH_COMPLETED)\n",
    "def log_training_results(trainer):\n",
    "    train_evaluator.run(train_dataloader)\n",
    "    metrics = train_evaluator.state.metrics\n",
    "    print(\"Training Results - Epoch: {}  Avg accuracy: {:.2f} Avg loss: {:.4f}\"\n",
    "          .format(trainer.state.epoch, metrics['accuracy'], metrics['loss']))\n",
    "    wandb.log({\"train_accuracy\": metrics['accuracy'],\n",
    "               \"train_loss\": metrics['loss']})\n",
    "\n",
    "@trainer.on(Events.EPOCH_COMPLETED)\n",
    "def log_validation_results(trainer):\n",
    "    val_evaluator.run(val_dataloader)\n",
    "    metrics = val_evaluator.state.metrics\n",
    "    print(\"Validation Results - Epoch: {}  Avg accuracy: {:.2f} Avg loss: {:.4f}\"\n",
    "          .format(trainer.state.epoch, metrics['accuracy'], metrics['loss']))\n",
    "    wandb.log({\"val_accuracy\": metrics['accuracy'],\n",
    "               \"val_loss\": metrics['loss']})\n",
    "\n",
    "\n",
    "# Run the training loop\n",
    "trainer.run(train_dataloader, max_epochs=config['train']['n_epoch'])\n",
    "wandb.finish()"
   ]
  },
  {
   "cell_type": "code",
   "execution_count": 19,
   "id": "52137287-0730-4268-8eab-c06a29efb0df",
   "metadata": {},
   "outputs": [],
   "source": [
    "PATH = '../model/lstm_model.pt'\n",
    "torch.save(model.state_dict(), PATH)"
   ]
  },
  {
   "cell_type": "code",
   "execution_count": 12,
   "id": "38ca745e-a57b-4f6b-9a03-a583aba1bcaf",
   "metadata": {},
   "outputs": [],
   "source": [
    "def req_grad(model: nn.Module, state: bool = True) -> None:\n",
    "    \"\"\"Set requires_grad of all model parameters to the desired value.\n",
    "\n",
    "    :param model: the model\n",
    "    :param state: desired value for requires_grad\n",
    "    \"\"\"\n",
    "    for param in model.parameters():\n",
    "        param.requires_grad_(state)"
   ]
  },
  {
   "cell_type": "code",
   "execution_count": 13,
   "id": "ad4266dc-cef7-43f5-944c-374f7573f6df",
   "metadata": {},
   "outputs": [],
   "source": [
    "req_grad(model, state=True)\n",
    "model.train()\n",
    "\n",
    "epsilon = 0.01\n",
    "num_iterations = 5\n",
    "loss_function = torch.nn.BCELoss()\n",
    "\n",
    "\n",
    "for input, target in test_dataloader:\n",
    "    input = input.to(device)\n",
    "    target = target.to(device)\n",
    "    \n",
    "    adversarial_input = input.clone().requires_grad_(True)  \n",
    "    \n",
    "    \n",
    "    for _ in range(num_iterations):\n",
    "        adversarial_input.requires_grad = True\n",
    "        #print(adversarial_input.requires_grad)\n",
    "        predictions = model(adversarial_input)\n",
    "        loss = loss_function(predictions.flatten(), target)\n",
    "        \n",
    "        grad_ = torch.autograd.grad(loss, adversarial_input, retain_graph=True)[0]\n",
    "        adversarial_input = adversarial_input.data + epsilon * torch.sign(grad_)"
   ]
  },
  {
   "cell_type": "code",
   "execution_count": 14,
   "id": "ff324877-c9fd-4007-9ce8-5fe5eb87f1c9",
   "metadata": {},
   "outputs": [
    {
     "data": {
      "text/plain": [
       "[<matplotlib.lines.Line2D at 0x2ab5175c750>]"
      ]
     },
     "execution_count": 14,
     "metadata": {},
     "output_type": "execute_result"
    },
    {
     "data": {
      "image/png": "[encoded data removed]",
      "text/plain": [
       "<Figure size 640x480 with 1 Axes>"
      ]
     },
     "metadata": {},
     "output_type": "display_data"
    }
   ],
   "source": [
    "plt.plot(input[0].to('cpu'))\n",
    "plt.plot(adversarial_input[0].to('cpu').detach().numpy(), alpha=0.8)"
   ]
  },
  {
   "cell_type": "code",
   "execution_count": 11,
   "id": "0a700150-53a7-4055-905f-b867122d71eb",
   "metadata": {},
   "outputs": [
    {
     "ename": "NameError",
     "evalue": "name 'adversarial_input' is not defined",
     "output_type": "error",
     "traceback": [
      "\u001b[1;31m---------------------------------------------------------------------------\u001b[0m",
      "\u001b[1;31mNameError\u001b[0m                                 Traceback (most recent call last)",
      "Cell \u001b[1;32mIn[11], line 9\u001b[0m\n\u001b[0;32m      6\u001b[0m \u001b[38;5;28minput\u001b[39m \u001b[38;5;241m=\u001b[39m \u001b[38;5;28minput\u001b[39m\u001b[38;5;241m.\u001b[39mto(device)\n\u001b[0;32m      7\u001b[0m target \u001b[38;5;241m=\u001b[39m target\u001b[38;5;241m.\u001b[39mto(device)\n\u001b[1;32m----> 9\u001b[0m adversarial_predictions \u001b[38;5;241m=\u001b[39m model(adversarial_input)\n\u001b[0;32m     11\u001b[0m correct \u001b[38;5;241m+\u001b[39m\u001b[38;5;241m=\u001b[39m (adversarial_predictions\u001b[38;5;241m.\u001b[39mto(\u001b[38;5;124m'\u001b[39m\u001b[38;5;124mcpu\u001b[39m\u001b[38;5;124m'\u001b[39m)\u001b[38;5;241m.\u001b[39mround() \u001b[38;5;241m==\u001b[39m target\u001b[38;5;241m.\u001b[39mto(\u001b[38;5;124m'\u001b[39m\u001b[38;5;124mcpu\u001b[39m\u001b[38;5;124m'\u001b[39m))\n\u001b[0;32m     12\u001b[0m total \u001b[38;5;241m+\u001b[39m\u001b[38;5;241m=\u001b[39m \u001b[38;5;28mlen\u001b[39m(target)\n",
      "\u001b[1;31mNameError\u001b[0m: name 'adversarial_input' is not defined"
     ]
    }
   ],
   "source": [
    "correct = 0\n",
    "total = 0\n",
    "\n",
    "model.eval()\n",
    "for input, target in test_dataloader:\n",
    "    input = input.to(device)\n",
    "    target = target.to(device)\n",
    "    \n",
    "    adversarial_predictions = model(adversarial_input)\n",
    "\n",
    "    correct += (adversarial_predictions.to('cpu').round() == target.to('cpu'))\n",
    "    total += len(target)\n",
    "    break\n",
    "\n",
    "    print(correct, total)\n",
    "\n",
    "print(adversarial_predictions.to('cpu').round())"
   ]
  },
  {
   "cell_type": "code",
   "execution_count": null,
   "id": "4daf2e6f-71c2-44f4-805c-f4e3339035a7",
   "metadata": {},
   "outputs": [],
   "source": []
  }
 ],
 "metadata": {
  "kernelspec": {
   "display_name": "Python 3 (ipykernel)",
   "language": "python",
   "name": "python3"
  },
  "language_info": {
   "codemirror_mode": {
    "name": "ipython",
    "version": 3
   },
   "file_extension": ".py",
   "mimetype": "text/x-python",
   "name": "python",
   "nbconvert_exporter": "python",
   "pygments_lexer": "ipython3",
   "version": "3.11.5"
  }
 },
 "nbformat": 4,
 "nbformat_minor": 5
}
