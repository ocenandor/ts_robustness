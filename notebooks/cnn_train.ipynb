{
  "cells": [
    {
      "cell_type": "code",
      "execution_count": 5,
      "metadata": {
        "id": "J92TC1g-wNmI"
      },
      "outputs": [],
      "source": [
        "import sys\n",
        "\n",
        "import matplotlib.pyplot as plt\n",
        "import numpy as np\n",
        "import torch\n",
        "import torch.nn as nn\n",
        "import wandb\n",
        "from ignite.engine import (Engine, Events, create_supervised_evaluator,\n",
        "                           create_supervised_trainer)\n",
        "from ignite.metrics import Accuracy, Loss\n",
        "from scipy.io.arff import loadarff\n",
        "from sklearn.model_selection import train_test_split\n",
        "from torch import nn\n",
        "from torch.functional import F\n",
        "from torch.utils.data import DataLoader, Dataset, SubsetRandomSampler\n",
        "\n",
        "sys.path.append('../')\n",
        "from src.datasets import FordDataset\n",
        "from src.models import LSTMClassification, TransformerClassification\n",
        "from src.utils import build_optimizer, str2torch\n",
        "from torch.optim import Adam, AdamW, SGD\n",
        "from src.train import train"
      ]
    },
    {
      "cell_type": "code",
      "execution_count": 18,
      "metadata": {
        "id": "nnsifepnwRiD"
      },
      "outputs": [],
      "source": [
        "train_path = \"./FordA_TRAIN.arff\"\n",
        "test_path = \"./FordA_TEST.arff\"\n",
        "\n",
        "train_dataset = FordDataset(train_path, config['data'])\n",
        "test_dataset = FordDataset(test_path, config['data'])\n",
        "\n",
        "idx = np.arange(len(train_dataset))\n",
        "idx_train, idx_val = train_test_split(idx, train_size=0.8, stratify=train_dataset.labels, random_state=config['random_state'])\n",
        "\n",
        "train_sampler = SubsetRandomSampler(idx)\n",
        "val_sampler = SubsetRandomSampler(idx_val)\n",
        "\n",
        "train_dataloader = DataLoader(train_dataset, batch_size=config['data']['batch_size'], sampler=train_sampler)\n",
        "val_dataloader = DataLoader(train_dataset, batch_size=config['data']['batch_size'], sampler=val_sampler)\n",
        "test_dataloader = DataLoader(test_dataset, batch_size=64)"
      ]
    },
    {
      "cell_type": "code",
      "execution_count": 9,
      "metadata": {
        "id": "jt3P9V6-wuyr"
      },
      "outputs": [],
      "source": [
        "class CNNClassification(nn.Module):\n",
        "\n",
        "    def __init__(self, input_dim, hidden_dim, target_size=2):\n",
        "        super(CNNClassification, self).__init__()\n",
        "\n",
        "        self.fc = nn.Sequential(\n",
        "            nn.Conv1d(input_dim, hidden_dim, kernel_size=3, stride=1, padding=1),\n",
        "            nn.ReLU(),\n",
        "            nn.MaxPool1d(kernel_size=2, stride=2),\n",
        "\n",
        "            nn.Conv1d(hidden_dim, hidden_dim, kernel_size=3, stride=1, padding=1),\n",
        "            nn.ReLU(),\n",
        "            nn.MaxPool1d(kernel_size=2, stride=2),\n",
        "\n",
        "            nn.Flatten(),\n",
        "            nn.Linear(3700, 256),\n",
        "            nn.ReLU(),\n",
        "            nn.Linear(256, target_size),\n",
        "        )\n",
        "\n",
        "    def forward(self, input_):\n",
        "        if len(input_.shape) == 2:\n",
        "            input_ = input_.unsqueeze(2)\n",
        "        input_ = input_.permute(0, 2, 1)\n",
        "        logits = self.fc(input_)\n",
        "        return logits"
      ]
    },
    {
      "cell_type": "code",
      "execution_count": 10,
      "metadata": {
        "id": "YQmTDuIv8t4d"
      },
      "outputs": [],
      "source": [
        "a = next(iter(train_dataloader))[0]"
      ]
    },
    {
      "cell_type": "code",
      "execution_count": 11,
      "metadata": {
        "colab": {
          "base_uri": "https://localhost:8080/"
        },
        "id": "vbesH-6g9lrU",
        "outputId": "0dbefa0c-c111-482f-9d62-5b74ba268299"
      },
      "outputs": [
        {
          "output_type": "execute_result",
          "data": {
            "text/plain": [
              "torch.Size([256, 2])"
            ]
          },
          "metadata": {},
          "execution_count": 11
        }
      ],
      "source": [
        "device = 'cuda' if torch.cuda.is_available() else 'cpu'\n",
        "model = CNNClassification(1, 100, 2).to(device)\n",
        "model(a.to(device)).shape"
      ]
    },
    {
      "cell_type": "code",
      "execution_count": 13,
      "metadata": {
        "id": "RVB5qxshxAN_"
      },
      "outputs": [],
      "source": [
        "config = {\n",
        "  \"data\": {\n",
        "    \"step\": 50,\n",
        "    \"batch_size\": 256,\n",
        "    \"seq_length\": 150\n",
        "  },\n",
        "  \"model\": {\n",
        "    \"fc\": {\n",
        "      \"input_dim\": 500,\n",
        "      \"hidden_dim\": 100,\n",
        "      \"target_size\": 2\n",
        "    }\n",
        "  },\n",
        "  \"train\": {\n",
        "    \"lr\": 0.0006345611256400737,\n",
        "    \"n_epoch\": 30,\n",
        "    \"optimizer\": \"adam\",\n",
        "    \"scheduler_config\": {\n",
        "      \"type\": None\n",
        "    }\n",
        "  },\n",
        "  \"random_state\": 42\n",
        "}"
      ]
    },
    {
      "cell_type": "code",
      "execution_count": 15,
      "metadata": {
        "colab": {
          "base_uri": "https://localhost:8080/",
          "height": 1000,
          "referenced_widgets": [
            "784c2f3451ac4bc5ab092e91aa27eff7",
            "b2547936191141e9bb878178c6b397e0",
            "1e32a662bc7945c988cfa92c9cd443f9",
            "d4976af8523347599329564e7c426baa",
            "673302ebe3df4c739f49b32493cfc2e2",
            "bc340520985e4231a4619a3ec9a15887",
            "b480023d75cc4d9e9b90f844ce3937cd",
            "2067cc21899c4745923b078e015f41c8"
          ]
        },
        "id": "qaGVKmUOVOTd",
        "outputId": "4b7aff4f-8ac1-419f-d260-49a165739d86"
      },
      "outputs": [
        {
          "output_type": "display_data",
          "data": {
            "text/plain": [
              "<IPython.core.display.HTML object>"
            ],
            "text/html": [
              "Tracking run with wandb version 0.16.4"
            ]
          },
          "metadata": {}
        },
        {
          "output_type": "display_data",
          "data": {
            "text/plain": [
              "<IPython.core.display.HTML object>"
            ],
            "text/html": [
              "Run data is saved locally in <code>/content/wandb/run-20240312_112217-ychu3r3b</code>"
            ]
          },
          "metadata": {}
        },
        {
          "output_type": "display_data",
          "data": {
            "text/plain": [
              "<IPython.core.display.HTML object>"
            ],
            "text/html": [
              "Syncing run <strong><a href='https://wandb.ai/ts-robustness/ml-course/runs/ychu3r3b' target=\"_blank\">stellar-capybara-291</a></strong> to <a href='https://wandb.ai/ts-robustness/ml-course' target=\"_blank\">Weights & Biases</a> (<a href='https://wandb.me/run' target=\"_blank\">docs</a>)<br/>"
            ]
          },
          "metadata": {}
        },
        {
          "output_type": "display_data",
          "data": {
            "text/plain": [
              "<IPython.core.display.HTML object>"
            ],
            "text/html": [
              " View project at <a href='https://wandb.ai/ts-robustness/ml-course' target=\"_blank\">https://wandb.ai/ts-robustness/ml-course</a>"
            ]
          },
          "metadata": {}
        },
        {
          "output_type": "display_data",
          "data": {
            "text/plain": [
              "<IPython.core.display.HTML object>"
            ],
            "text/html": [
              " View run at <a href='https://wandb.ai/ts-robustness/ml-course/runs/ychu3r3b' target=\"_blank\">https://wandb.ai/ts-robustness/ml-course/runs/ychu3r3b</a>"
            ]
          },
          "metadata": {}
        },
        {
          "output_type": "stream",
          "name": "stdout",
          "text": [
            "Training Results - Epoch: 1  Avg accuracy: 0.72 Avg loss: 0.5248\n",
            "Validation Results - Epoch: 1  Avg accuracy: 0.73 Avg loss: 0.5212\n",
            "Training Results - Epoch: 2  Avg accuracy: 0.85 Avg loss: 0.3470\n",
            "Validation Results - Epoch: 2  Avg accuracy: 0.85 Avg loss: 0.3430\n",
            "Training Results - Epoch: 3  Avg accuracy: 0.79 Avg loss: 0.4585\n",
            "Validation Results - Epoch: 3  Avg accuracy: 0.78 Avg loss: 0.4617\n",
            "Training Results - Epoch: 4  Avg accuracy: 0.85 Avg loss: 0.3347\n",
            "Validation Results - Epoch: 4  Avg accuracy: 0.85 Avg loss: 0.3301\n",
            "Training Results - Epoch: 5  Avg accuracy: 0.88 Avg loss: 0.2818\n",
            "Validation Results - Epoch: 5  Avg accuracy: 0.88 Avg loss: 0.2849\n",
            "Training Results - Epoch: 6  Avg accuracy: 0.85 Avg loss: 0.3291\n",
            "Validation Results - Epoch: 6  Avg accuracy: 0.85 Avg loss: 0.3386\n",
            "Training Results - Epoch: 7  Avg accuracy: 0.86 Avg loss: 0.3070\n",
            "Validation Results - Epoch: 7  Avg accuracy: 0.85 Avg loss: 0.3241\n",
            "Training Results - Epoch: 8  Avg accuracy: 0.89 Avg loss: 0.2581\n",
            "Validation Results - Epoch: 8  Avg accuracy: 0.88 Avg loss: 0.2785\n",
            "Training Results - Epoch: 9  Avg accuracy: 0.90 Avg loss: 0.2445\n",
            "Validation Results - Epoch: 9  Avg accuracy: 0.89 Avg loss: 0.2677\n",
            "Training Results - Epoch: 10  Avg accuracy: 0.90 Avg loss: 0.2404\n",
            "Validation Results - Epoch: 10  Avg accuracy: 0.89 Avg loss: 0.2727\n",
            "Training Results - Epoch: 11  Avg accuracy: 0.90 Avg loss: 0.2331\n",
            "Validation Results - Epoch: 11  Avg accuracy: 0.88 Avg loss: 0.2713\n",
            "Training Results - Epoch: 12  Avg accuracy: 0.89 Avg loss: 0.2614\n",
            "Validation Results - Epoch: 12  Avg accuracy: 0.87 Avg loss: 0.3172\n",
            "Training Results - Epoch: 13  Avg accuracy: 0.91 Avg loss: 0.2193\n",
            "Validation Results - Epoch: 13  Avg accuracy: 0.89 Avg loss: 0.2757\n",
            "Training Results - Epoch: 14  Avg accuracy: 0.91 Avg loss: 0.2111\n",
            "Validation Results - Epoch: 14  Avg accuracy: 0.89 Avg loss: 0.2764\n",
            "Training Results - Epoch: 15  Avg accuracy: 0.91 Avg loss: 0.2066\n",
            "Validation Results - Epoch: 15  Avg accuracy: 0.88 Avg loss: 0.2864\n",
            "Training Results - Epoch: 16  Avg accuracy: 0.90 Avg loss: 0.2338\n",
            "Validation Results - Epoch: 16  Avg accuracy: 0.86 Avg loss: 0.3230\n",
            "Training Results - Epoch: 17  Avg accuracy: 0.93 Avg loss: 0.1841\n",
            "Validation Results - Epoch: 17  Avg accuracy: 0.89 Avg loss: 0.2782\n",
            "Training Results - Epoch: 18  Avg accuracy: 0.90 Avg loss: 0.2326\n",
            "Validation Results - Epoch: 18  Avg accuracy: 0.86 Avg loss: 0.3518\n",
            "Training Results - Epoch: 19  Avg accuracy: 0.91 Avg loss: 0.2144\n",
            "Validation Results - Epoch: 19  Avg accuracy: 0.86 Avg loss: 0.3406\n",
            "Training Results - Epoch: 20  Avg accuracy: 0.92 Avg loss: 0.1907\n",
            "Validation Results - Epoch: 20  Avg accuracy: 0.87 Avg loss: 0.3231\n",
            "Training Results - Epoch: 21  Avg accuracy: 0.93 Avg loss: 0.1633\n",
            "Validation Results - Epoch: 21  Avg accuracy: 0.88 Avg loss: 0.3026\n",
            "Training Results - Epoch: 22  Avg accuracy: 0.94 Avg loss: 0.1486\n",
            "Validation Results - Epoch: 22  Avg accuracy: 0.88 Avg loss: 0.3092\n",
            "Training Results - Epoch: 23  Avg accuracy: 0.93 Avg loss: 0.1663\n",
            "Validation Results - Epoch: 23  Avg accuracy: 0.87 Avg loss: 0.3431\n",
            "Training Results - Epoch: 24  Avg accuracy: 0.95 Avg loss: 0.1266\n",
            "Validation Results - Epoch: 24  Avg accuracy: 0.88 Avg loss: 0.3166\n",
            "Training Results - Epoch: 25  Avg accuracy: 0.96 Avg loss: 0.1223\n",
            "Validation Results - Epoch: 25  Avg accuracy: 0.87 Avg loss: 0.3304\n",
            "Training Results - Epoch: 26  Avg accuracy: 0.95 Avg loss: 0.1207\n",
            "Validation Results - Epoch: 26  Avg accuracy: 0.87 Avg loss: 0.3493\n",
            "Training Results - Epoch: 27  Avg accuracy: 0.96 Avg loss: 0.1194\n",
            "Validation Results - Epoch: 27  Avg accuracy: 0.87 Avg loss: 0.3613\n",
            "Training Results - Epoch: 28  Avg accuracy: 0.97 Avg loss: 0.0947\n",
            "Validation Results - Epoch: 28  Avg accuracy: 0.87 Avg loss: 0.3498\n",
            "Training Results - Epoch: 29  Avg accuracy: 0.97 Avg loss: 0.0912\n",
            "Validation Results - Epoch: 29  Avg accuracy: 0.87 Avg loss: 0.3770\n",
            "Training Results - Epoch: 30  Avg accuracy: 0.97 Avg loss: 0.0933\n",
            "Validation Results - Epoch: 30  Avg accuracy: 0.87 Avg loss: 0.3887\n",
            "Test Results - Epoch: 30  Avg accuracy: 0.87 Avg loss: 0.4178\n"
          ]
        },
        {
          "output_type": "display_data",
          "data": {
            "text/plain": [
              "VBox(children=(Label(value='0.109 MB of 0.109 MB uploaded\\r'), FloatProgress(value=1.0, max=1.0)))"
            ],
            "application/vnd.jupyter.widget-view+json": {
              "version_major": 2,
              "version_minor": 0,
              "model_id": "784c2f3451ac4bc5ab092e91aa27eff7"
            }
          },
          "metadata": {}
        },
        {
          "output_type": "display_data",
          "data": {
            "text/plain": [
              "<IPython.core.display.HTML object>"
            ],
            "text/html": [
              "W&B sync reduced upload amount by 5.7%             "
            ]
          },
          "metadata": {}
        },
        {
          "output_type": "display_data",
          "data": {
            "text/plain": [
              "<IPython.core.display.HTML object>"
            ],
            "text/html": [
              "<style>\n",
              "    table.wandb td:nth-child(1) { padding: 0 10px; text-align: left ; width: auto;} td:nth-child(2) {text-align: left ; width: 100%}\n",
              "    .wandb-row { display: flex; flex-direction: row; flex-wrap: wrap; justify-content: flex-start; width: 100% }\n",
              "    .wandb-col { display: flex; flex-direction: column; flex-basis: 100%; flex: 1; padding: 10px; }\n",
              "    </style>\n",
              "<div class=\"wandb-row\"><div class=\"wandb-col\"><h3>Run history:</h3><br/><table class=\"wandb\"><tr><td>test_accuracy</td><td>▁</td></tr><tr><td>test_loss</td><td>▁</td></tr><tr><td>train_accuracy</td><td>▁▅▃▅▆▅▅▆▆▆▆▆▆▆▆▆▇▆▆▇▇▇▇███████</td></tr><tr><td>train_loss</td><td>█▅▇▅▄▅▄▄▃▃▃▄▃▃▃▃▂▃▃▃▂▂▂▂▂▁▁▁▁▁</td></tr><tr><td>val_accuracy</td><td>▁▆▃▆█▆▇████▇███▇█▇▇▇██▇█▇▇▇▇▇▇</td></tr><tr><td>val_loss</td><td>█▃▆▃▁▃▃▁▁▁▁▂▁▁▂▃▁▃▃▃▂▂▃▂▃▃▄▃▄▄</td></tr></table><br/></div><div class=\"wandb-col\"><h3>Run summary:</h3><br/><table class=\"wandb\"><tr><td>test_accuracy</td><td>0.86733</td></tr><tr><td>test_loss</td><td>0.4178</td></tr><tr><td>train_accuracy</td><td>0.96659</td></tr><tr><td>train_loss</td><td>0.09325</td></tr><tr><td>val_accuracy</td><td>0.87018</td></tr><tr><td>val_loss</td><td>0.38872</td></tr></table><br/></div></div>"
            ]
          },
          "metadata": {}
        },
        {
          "output_type": "display_data",
          "data": {
            "text/plain": [
              "<IPython.core.display.HTML object>"
            ],
            "text/html": [
              " View run <strong style=\"color:#cdcd00\">stellar-capybara-291</strong> at: <a href='https://wandb.ai/ts-robustness/ml-course/runs/ychu3r3b' target=\"_blank\">https://wandb.ai/ts-robustness/ml-course/runs/ychu3r3b</a><br/> View job at <a href='https://wandb.ai/ts-robustness/ml-course/jobs/QXJ0aWZhY3RDb2xsZWN0aW9uOjE0Nzc3MjM0NQ==/version_details/v24' target=\"_blank\">https://wandb.ai/ts-robustness/ml-course/jobs/QXJ0aWZhY3RDb2xsZWN0aW9uOjE0Nzc3MjM0NQ==/version_details/v24</a><br/>Synced 5 W&B file(s), 0 media file(s), 4 artifact file(s) and 1 other file(s)"
            ]
          },
          "metadata": {}
        },
        {
          "output_type": "display_data",
          "data": {
            "text/plain": [
              "<IPython.core.display.HTML object>"
            ],
            "text/html": [
              "Find logs at: <code>./wandb/run-20240312_112217-ychu3r3b/logs</code>"
            ]
          },
          "metadata": {}
        }
      ],
      "source": [
        "# Initialize your model\n",
        "wandb.init(entity='ts-robustness', project='ml-course', config=config, tags=['hypersearch'])\n",
        "\n",
        "device = 'cuda' if torch.cuda.is_available() else 'cpu'\n",
        "config['train']['optimizer'] = str2torch(config['train']['optimizer'])\n",
        "\n",
        "model = CNNClassification(1, 100, 2).to(device)\n",
        "\n",
        "# Initialize your optimizer and criterion\n",
        "optimizer = build_optimizer(config, model)\n",
        "criterion = nn.CrossEntropyLoss()\n",
        "\n",
        "def train_step(engine, batch):\n",
        "    model.train()\n",
        "    optimizer.zero_grad()\n",
        "    x, y = batch[0].to(device), batch[1].to(device)\n",
        "    y_pred = model(x)\n",
        "    loss = criterion(y_pred, y.long())\n",
        "    loss.backward()\n",
        "    optimizer.step()\n",
        "    return loss.item()\n",
        "\n",
        "trainer = Engine(train_step)\n",
        "\n",
        "def validation_step(engine, batch):\n",
        "    model.eval()\n",
        "    with torch.no_grad():\n",
        "        x, y = batch[0].to(device), batch[1].to(device)\n",
        "        y_pred = model(x)\n",
        "        return y_pred, y\n",
        "\n",
        "train_evaluator = Engine(validation_step)\n",
        "val_evaluator = Engine(validation_step)\n",
        "test_evaluator = Engine(validation_step)\n",
        "\n",
        "# Attach metrics to the evaluators\n",
        "metrics = {\n",
        "    'accuracy': Accuracy(output_transform=lambda x: (torch.argmax(x[0], dim=1), x[1])),\n",
        "    'loss': Loss(criterion, output_transform=lambda x: (x[0], x[1].long()))\n",
        "}\n",
        "\n",
        "for name, metric in metrics.items():\n",
        "    metric.attach(train_evaluator, name)\n",
        "    metric.attach(val_evaluator, name)\n",
        "    metric.attach(test_evaluator, name)\n",
        "\n",
        "\n",
        "@trainer.on(Events.EPOCH_COMPLETED)\n",
        "def log_training_results(trainer):\n",
        "    train_evaluator.run(train_dataloader)\n",
        "    metrics = train_evaluator.state.metrics\n",
        "    print(\"Training Results - Epoch: {}  Avg accuracy: {:.2f} Avg loss: {:.4f}\"\n",
        "          .format(trainer.state.epoch, metrics['accuracy'], metrics['loss']))\n",
        "    wandb.log({\"train_accuracy\": metrics['accuracy'],\n",
        "               \"train_loss\": metrics['loss']})\n",
        "\n",
        "@trainer.on(Events.EPOCH_COMPLETED)\n",
        "def log_validation_results(trainer):\n",
        "    val_evaluator.run(val_dataloader)\n",
        "    metrics = val_evaluator.state.metrics\n",
        "    print(\"Validation Results - Epoch: {}  Avg accuracy: {:.2f} Avg loss: {:.4f}\"\n",
        "          .format(trainer.state.epoch, metrics['accuracy'], metrics['loss']))\n",
        "    wandb.log({\"val_accuracy\": metrics['accuracy'],\n",
        "               \"val_loss\": metrics['loss']})\n",
        "\n",
        "@trainer.on(Events.COMPLETED)\n",
        "def log_test_results(trainer):\n",
        "    test_evaluator.run(test_dataloader)\n",
        "    metrics = test_evaluator.state.metrics\n",
        "    print(\"Test Results - Epoch: {}  Avg accuracy: {:.2f} Avg loss: {:.4f}\"\n",
        "          .format(trainer.state.epoch, metrics['accuracy'], metrics['loss']))\n",
        "    wandb.log({\"test_accuracy\": metrics['accuracy'],\n",
        "               \"test_loss\": metrics['loss']})\n",
        "\n",
        "\n",
        "# Run the training loop\n",
        "trainer.run(train_dataloader, max_epochs=config['train']['n_epoch'])\n",
        "wandb.finish()"
      ]
    },
    {
      "cell_type": "code",
      "source": [
        "torch.save(model.state_dict(), 'cnn.pth')"
      ],
      "metadata": {
        "id": "uYYg9QGHagnx"
      },
      "execution_count": 23,
      "outputs": []
    }
  ],
  "metadata": {
    "colab": {
      "provenance": [],
      "gpuType": "T4"
    },
    "kernelspec": {
      "display_name": "Python 3",
      "name": "python3"
    },
    "language_info": {
      "name": "python"
    },
    "accelerator": "GPU",
    "widgets": {
      "application/vnd.jupyter.widget-state+json": {
        "784c2f3451ac4bc5ab092e91aa27eff7": {
          "model_module": "@jupyter-widgets/controls",
          "model_name": "VBoxModel",
          "model_module_version": "1.5.0",
          "state": {
            "_dom_classes": [],
            "_model_module": "@jupyter-widgets/controls",
            "_model_module_version": "1.5.0",
            "_model_name": "VBoxModel",
            "_view_count": null,
            "_view_module": "@jupyter-widgets/controls",
            "_view_module_version": "1.5.0",
            "_view_name": "VBoxView",
            "box_style": "",
            "children": [
              "IPY_MODEL_b2547936191141e9bb878178c6b397e0",
              "IPY_MODEL_1e32a662bc7945c988cfa92c9cd443f9"
            ],
            "layout": "IPY_MODEL_d4976af8523347599329564e7c426baa"
          }
        },
        "b2547936191141e9bb878178c6b397e0": {
          "model_module": "@jupyter-widgets/controls",
          "model_name": "LabelModel",
          "model_module_version": "1.5.0",
          "state": {
            "_dom_classes": [],
            "_model_module": "@jupyter-widgets/controls",
            "_model_module_version": "1.5.0",
            "_model_name": "LabelModel",
            "_view_count": null,
            "_view_module": "@jupyter-widgets/controls",
            "_view_module_version": "1.5.0",
            "_view_name": "LabelView",
            "description": "",
            "description_tooltip": null,
            "layout": "IPY_MODEL_673302ebe3df4c739f49b32493cfc2e2",
            "placeholder": "​",
            "style": "IPY_MODEL_bc340520985e4231a4619a3ec9a15887",
            "value": "0.153 MB of 0.153 MB uploaded (0.009 MB deduped)\r"
          }
        },
        "1e32a662bc7945c988cfa92c9cd443f9": {
          "model_module": "@jupyter-widgets/controls",
          "model_name": "FloatProgressModel",
          "model_module_version": "1.5.0",
          "state": {
            "_dom_classes": [],
            "_model_module": "@jupyter-widgets/controls",
            "_model_module_version": "1.5.0",
            "_model_name": "FloatProgressModel",
            "_view_count": null,
            "_view_module": "@jupyter-widgets/controls",
            "_view_module_version": "1.5.0",
            "_view_name": "ProgressView",
            "bar_style": "",
            "description": "",
            "description_tooltip": null,
            "layout": "IPY_MODEL_b480023d75cc4d9e9b90f844ce3937cd",
            "max": 1,
            "min": 0,
            "orientation": "horizontal",
            "style": "IPY_MODEL_2067cc21899c4745923b078e015f41c8",
            "value": 1
          }
        },
        "d4976af8523347599329564e7c426baa": {
          "model_module": "@jupyter-widgets/base",
          "model_name": "LayoutModel",
          "model_module_version": "1.2.0",
          "state": {
            "_model_module": "@jupyter-widgets/base",
            "_model_module_version": "1.2.0",
            "_model_name": "LayoutModel",
            "_view_count": null,
            "_view_module": "@jupyter-widgets/base",
            "_view_module_version": "1.2.0",
            "_view_name": "LayoutView",
            "align_content": null,
            "align_items": null,
            "align_self": null,
            "border": null,
            "bottom": null,
            "display": null,
            "flex": null,
            "flex_flow": null,
            "grid_area": null,
            "grid_auto_columns": null,
            "grid_auto_flow": null,
            "grid_auto_rows": null,
            "grid_column": null,
            "grid_gap": null,
            "grid_row": null,
            "grid_template_areas": null,
            "grid_template_columns": null,
            "grid_template_rows": null,
            "height": null,
            "justify_content": null,
            "justify_items": null,
            "left": null,
            "margin": null,
            "max_height": null,
            "max_width": null,
            "min_height": null,
            "min_width": null,
            "object_fit": null,
            "object_position": null,
            "order": null,
            "overflow": null,
            "overflow_x": null,
            "overflow_y": null,
            "padding": null,
            "right": null,
            "top": null,
            "visibility": null,
            "width": null
          }
        },
        "673302ebe3df4c739f49b32493cfc2e2": {
          "model_module": "@jupyter-widgets/base",
          "model_name": "LayoutModel",
          "model_module_version": "1.2.0",
          "state": {
            "_model_module": "@jupyter-widgets/base",
            "_model_module_version": "1.2.0",
            "_model_name": "LayoutModel",
            "_view_count": null,
            "_view_module": "@jupyter-widgets/base",
            "_view_module_version": "1.2.0",
            "_view_name": "LayoutView",
            "align_content": null,
            "align_items": null,
            "align_self": null,
            "border": null,
            "bottom": null,
            "display": null,
            "flex": null,
            "flex_flow": null,
            "grid_area": null,
            "grid_auto_columns": null,
            "grid_auto_flow": null,
            "grid_auto_rows": null,
            "grid_column": null,
            "grid_gap": null,
            "grid_row": null,
            "grid_template_areas": null,
            "grid_template_columns": null,
            "grid_template_rows": null,
            "height": null,
            "justify_content": null,
            "justify_items": null,
            "left": null,
            "margin": null,
            "max_height": null,
            "max_width": null,
            "min_height": null,
            "min_width": null,
            "object_fit": null,
            "object_position": null,
            "order": null,
            "overflow": null,
            "overflow_x": null,
            "overflow_y": null,
            "padding": null,
            "right": null,
            "top": null,
            "visibility": null,
            "width": null
          }
        },
        "bc340520985e4231a4619a3ec9a15887": {
          "model_module": "@jupyter-widgets/controls",
          "model_name": "DescriptionStyleModel",
          "model_module_version": "1.5.0",
          "state": {
            "_model_module": "@jupyter-widgets/controls",
            "_model_module_version": "1.5.0",
            "_model_name": "DescriptionStyleModel",
            "_view_count": null,
            "_view_module": "@jupyter-widgets/base",
            "_view_module_version": "1.2.0",
            "_view_name": "StyleView",
            "description_width": ""
          }
        },
        "b480023d75cc4d9e9b90f844ce3937cd": {
          "model_module": "@jupyter-widgets/base",
          "model_name": "LayoutModel",
          "model_module_version": "1.2.0",
          "state": {
            "_model_module": "@jupyter-widgets/base",
            "_model_module_version": "1.2.0",
            "_model_name": "LayoutModel",
            "_view_count": null,
            "_view_module": "@jupyter-widgets/base",
            "_view_module_version": "1.2.0",
            "_view_name": "LayoutView",
            "align_content": null,
            "align_items": null,
            "align_self": null,
            "border": null,
            "bottom": null,
            "display": null,
            "flex": null,
            "flex_flow": null,
            "grid_area": null,
            "grid_auto_columns": null,
            "grid_auto_flow": null,
            "grid_auto_rows": null,
            "grid_column": null,
            "grid_gap": null,
            "grid_row": null,
            "grid_template_areas": null,
            "grid_template_columns": null,
            "grid_template_rows": null,
            "height": null,
            "justify_content": null,
            "justify_items": null,
            "left": null,
            "margin": null,
            "max_height": null,
            "max_width": null,
            "min_height": null,
            "min_width": null,
            "object_fit": null,
            "object_position": null,
            "order": null,
            "overflow": null,
            "overflow_x": null,
            "overflow_y": null,
            "padding": null,
            "right": null,
            "top": null,
            "visibility": null,
            "width": null
          }
        },
        "2067cc21899c4745923b078e015f41c8": {
          "model_module": "@jupyter-widgets/controls",
          "model_name": "ProgressStyleModel",
          "model_module_version": "1.5.0",
          "state": {
            "_model_module": "@jupyter-widgets/controls",
            "_model_module_version": "1.5.0",
            "_model_name": "ProgressStyleModel",
            "_view_count": null,
            "_view_module": "@jupyter-widgets/base",
            "_view_module_version": "1.2.0",
            "_view_name": "StyleView",
            "bar_color": null,
            "description_width": ""
          }
        }
      }
    }
  },
  "nbformat": 4,
  "nbformat_minor": 0
}