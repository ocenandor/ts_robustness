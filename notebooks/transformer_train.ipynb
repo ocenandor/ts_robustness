{
 "cells": [
  {
   "cell_type": "code",
   "execution_count": 78,
   "metadata": {},
   "outputs": [],
   "source": [
    "import sys\n",
    "from functools import partial\n",
    "\n",
    "import matplotlib.pyplot as plt\n",
    "import numpy as np\n",
    "import torch\n",
    "import torch.nn as nn\n",
    "import wandb\n",
    "from ignite.engine import (Engine, Events, create_supervised_evaluator,\n",
    "                           create_supervised_trainer)\n",
    "from ignite.handlers import ModelCheckpoint\n",
    "from ignite.metrics import Accuracy, Loss\n",
    "from scipy.io.arff import loadarff\n",
    "from sklearn.model_selection import train_test_split\n",
    "from torch import nn\n",
    "from torch.functional import F\n",
    "from torch.utils.data import DataLoader, Dataset, SubsetRandomSampler\n",
    "\n",
    "sys.path.append('../')\n",
    "from src.datasets import FordDataset\n",
    "from src.models import TransformerClassification\n",
    "from src.utils import build_optimizer, split_batch"
   ]
  },
  {
   "cell_type": "code",
   "execution_count": 79,
   "metadata": {},
   "outputs": [],
   "source": [
    "n_splits = 50\n",
    "\n",
    "config = {\n",
    "    \"model\":{\n",
    "        \"encoder\": {\n",
    "            \"d_model\": n_splits,\n",
    "            \"nhead\": n_splits // 2,\n",
    "            \"layer_norm_eps\": 1e-3,\n",
    "            \"dropout\": 0.5\n",
    "        },\n",
    "        \"num_layers\": 2,\n",
    "        \"fc\":{\n",
    "            \"dim\": 50,\n",
    "            \"dropout\": 0.5\n",
    "        }\n",
    "    },\n",
    "    \"train\":{\n",
    "        \"optimizer\": torch.optim.Adam,\n",
    "        \"lr\": 3e-4,\n",
    "        \"n_epoch\": 2\n",
    "    },\n",
    "    \"random_state\": np.random.randint(0, 1000)\n",
    "}"
   ]
  },
  {
   "cell_type": "code",
   "execution_count": 80,
   "metadata": {},
   "outputs": [],
   "source": [
    "train_path = \"../data/FordA/FordA_TRAIN.arff\"\n",
    "test_path = \"../data/FordA/FordA_TEST.arff\"\n",
    "\n",
    "train_dataset = FordDataset(train_path)\n",
    "test_dataset = FordDataset(test_path)\n",
    "\n",
    "idx = np.arange(len(train_dataset))\n",
    "idx_train, idx_val = train_test_split(idx, train_size=0.8, stratify=train_dataset.labels, random_state=config['random_state'])\n",
    "\n",
    "train_sampler = SubsetRandomSampler(idx_train)\n",
    "val_sampler = SubsetRandomSampler(idx_val)\n",
    "\n",
    "train_dataloader = DataLoader(train_dataset, batch_size=128, sampler=train_sampler, collate_fn=partial(split_batch, n_splits=n_splits))\n",
    "val_dataloader = DataLoader(train_dataset, batch_size=128, sampler=val_sampler, collate_fn=partial(split_batch, n_splits=n_splits))\n",
    "test_dataloader = DataLoader(test_dataset, batch_size=64, collate_fn=partial(split_batch, n_splits=n_splits))"
   ]
  },
  {
   "cell_type": "code",
   "execution_count": 81,
   "metadata": {},
   "outputs": [
    {
     "data": {
      "text/html": [
       "Tracking run with wandb version 0.16.3"
      ],
      "text/plain": [
       "<IPython.core.display.HTML object>"
      ]
     },
     "metadata": {},
     "output_type": "display_data"
    },
    {
     "data": {
      "text/html": [
       "Run data is saved locally in <code>c:\\Users\\ptmeg\\OneDrive\\Документы\\Skoltech\\Term3\\ML\\ts_robustness\\notebooks\\wandb\\run-20240226_220458-3kanczou</code>"
      ],
      "text/plain": [
       "<IPython.core.display.HTML object>"
      ]
     },
     "metadata": {},
     "output_type": "display_data"
    },
    {
     "data": {
      "text/html": [
       "Syncing run <strong><a href='https://wandb.ai/ts-robustness/ml-course/runs/3kanczou' target=\"_blank\">devout-spaceship-56</a></strong> to <a href='https://wandb.ai/ts-robustness/ml-course' target=\"_blank\">Weights & Biases</a> (<a href='https://wandb.me/run' target=\"_blank\">docs</a>)<br/>"
      ],
      "text/plain": [
       "<IPython.core.display.HTML object>"
      ]
     },
     "metadata": {},
     "output_type": "display_data"
    },
    {
     "data": {
      "text/html": [
       " View project at <a href='https://wandb.ai/ts-robustness/ml-course' target=\"_blank\">https://wandb.ai/ts-robustness/ml-course</a>"
      ],
      "text/plain": [
       "<IPython.core.display.HTML object>"
      ]
     },
     "metadata": {},
     "output_type": "display_data"
    },
    {
     "data": {
      "text/html": [
       " View run at <a href='https://wandb.ai/ts-robustness/ml-course/runs/3kanczou' target=\"_blank\">https://wandb.ai/ts-robustness/ml-course/runs/3kanczou</a>"
      ],
      "text/plain": [
       "<IPython.core.display.HTML object>"
      ]
     },
     "metadata": {},
     "output_type": "display_data"
    },
    {
     "name": "stdout",
     "output_type": "stream",
     "text": [
      "Training Results - Avg loss: 0.7103\n",
      "Training Results - Avg loss: 0.7135\n",
      "Training Results - Avg loss: 0.7111\n",
      "Training Results - Avg loss: 0.6996\n",
      "Training Results - Avg loss: 0.7129\n",
      "Training Results - Avg loss: 0.7098\n",
      "Training Results - Avg loss: 0.6923\n",
      "Training Results - Avg loss: 0.7294\n",
      "Training Results - Avg loss: 0.7059\n",
      "Training Results - Avg loss: 0.6705\n",
      "Training Results - Avg loss: 0.6825\n",
      "Training Results - Avg loss: 0.7070\n",
      "Training Results - Avg loss: 0.7031\n",
      "Training Results - Avg loss: 0.6726\n",
      "Training Results - Avg loss: 0.6988\n",
      "Training Results - Avg loss: 0.6979\n",
      "Training Results - Avg loss: 0.7067\n",
      "Training Results - Avg loss: 0.6792\n",
      "Training Results - Avg loss: 0.7003\n",
      "Training Results - Avg loss: 0.6890\n",
      "Training Results - Avg loss: 0.6650\n",
      "Training Results - Avg loss: 0.6964\n",
      "Training Results - Avg loss: 0.6956\n",
      "Training Results - Epoch: 1  Avg accuracy: 0.66 Avg loss: 0.6640\n",
      "Validation Results - Epoch: 1  Avg accuracy: 0.63 Avg loss: 0.6667\n",
      "Training Results - Avg loss: 0.6674\n",
      "Training Results - Avg loss: 0.6764\n",
      "Training Results - Avg loss: 0.6815\n",
      "Training Results - Avg loss: 0.6822\n",
      "Training Results - Avg loss: 0.6688\n",
      "Training Results - Avg loss: 0.6678\n",
      "Training Results - Avg loss: 0.6584\n",
      "Training Results - Avg loss: 0.6513\n",
      "Training Results - Avg loss: 0.6704\n",
      "Training Results - Avg loss: 0.6906\n",
      "Training Results - Avg loss: 0.6824\n",
      "Training Results - Avg loss: 0.6668\n",
      "Training Results - Avg loss: 0.6828\n",
      "Training Results - Avg loss: 0.6527\n",
      "Training Results - Avg loss: 0.6728\n",
      "Training Results - Avg loss: 0.6716\n",
      "Training Results - Avg loss: 0.6816\n",
      "Training Results - Avg loss: 0.6707\n",
      "Training Results - Avg loss: 0.6493\n",
      "Training Results - Avg loss: 0.6620\n",
      "Training Results - Avg loss: 0.6573\n",
      "Training Results - Avg loss: 0.6912\n",
      "Training Results - Avg loss: 0.6937\n",
      "Training Results - Epoch: 2  Avg accuracy: 0.68 Avg loss: 0.6293\n",
      "Validation Results - Epoch: 2  Avg accuracy: 0.67 Avg loss: 0.6321\n"
     ]
    },
    {
     "data": {
      "text/html": [
       "<style>\n",
       "    table.wandb td:nth-child(1) { padding: 0 10px; text-align: left ; width: auto;} td:nth-child(2) {text-align: left ; width: 100%}\n",
       "    .wandb-row { display: flex; flex-direction: row; flex-wrap: wrap; justify-content: flex-start; width: 100% }\n",
       "    .wandb-col { display: flex; flex-direction: column; flex-basis: 100%; flex: 1; padding: 10px; }\n",
       "    </style>\n",
       "<div class=\"wandb-row\"><div class=\"wandb-col\"><h3>Run history:</h3><br/><table class=\"wandb\"><tr><td>train_accuracy</td><td>▁█</td></tr><tr><td>train_loss</td><td>▇▇▇▆▇▅█▆▄▅▆▄▆▆▆▆▅▃▆▆▄▄▅▅▄▃▃▄▅▅▅▃▄▄▅▂▃▃▅▁</td></tr><tr><td>val_accuracy</td><td>▁█</td></tr><tr><td>val_loss</td><td>█▁</td></tr></table><br/></div><div class=\"wandb-col\"><h3>Run summary:</h3><br/><table class=\"wandb\"><tr><td>train_accuracy</td><td>0.67882</td></tr><tr><td>train_loss</td><td>0.62933</td></tr><tr><td>val_accuracy</td><td>0.66713</td></tr><tr><td>val_loss</td><td>0.63213</td></tr></table><br/></div></div>"
      ],
      "text/plain": [
       "<IPython.core.display.HTML object>"
      ]
     },
     "metadata": {},
     "output_type": "display_data"
    },
    {
     "data": {
      "text/html": [
       " View run <strong style=\"color:#cdcd00\">devout-spaceship-56</strong> at: <a href='https://wandb.ai/ts-robustness/ml-course/runs/3kanczou' target=\"_blank\">https://wandb.ai/ts-robustness/ml-course/runs/3kanczou</a><br/>Synced 6 W&B file(s), 0 media file(s), 0 artifact file(s) and 0 other file(s)"
      ],
      "text/plain": [
       "<IPython.core.display.HTML object>"
      ]
     },
     "metadata": {},
     "output_type": "display_data"
    },
    {
     "data": {
      "text/html": [
       "Find logs at: <code>.\\wandb\\run-20240226_220458-3kanczou\\logs</code>"
      ],
      "text/plain": [
       "<IPython.core.display.HTML object>"
      ]
     },
     "metadata": {},
     "output_type": "display_data"
    }
   ],
   "source": [
    "# Initialize your model\n",
    "wandb.init(entity='ts-robustness', project='ml-course', config=config)\n",
    "\n",
    "device = 'cuda' if torch.cuda.is_available() else 'cpu'\n",
    "model = TransformerClassification(config['model']).to(device)\n",
    "\n",
    "# Initialize your optimizer and criterion\n",
    "optimizer = build_optimizer(config, model)\n",
    "criterion = nn.BCELoss()\n",
    "\n",
    "def train_step(engine, batch):\n",
    "    model.train()\n",
    "    optimizer.zero_grad()\n",
    "    x, y = batch[0].to(device), batch[1].to(device)\n",
    "    y_pred = model(x)\n",
    "    loss = criterion(y_pred, y.unsqueeze(1))\n",
    "    loss.backward()\n",
    "    optimizer.step()\n",
    "    return loss.item()\n",
    "\n",
    "trainer = Engine(train_step)\n",
    "\n",
    "def validation_step(engine, batch):\n",
    "    model.eval()\n",
    "    with torch.no_grad():\n",
    "        x, y = batch[0].to(device), batch[1].to(device)\n",
    "        y_pred = model(x)\n",
    "        return y_pred, y\n",
    "\n",
    "train_evaluator = Engine(validation_step)\n",
    "val_evaluator = Engine(validation_step)\n",
    "\n",
    "# Attach metrics to the evaluators\n",
    "metrics = {\n",
    "    'accuracy': Accuracy(output_transform=lambda x: (x[0] > 0.5, x[1])),\n",
    "    'loss': Loss(criterion, output_transform=lambda x: (x[0], x[1].unsqueeze(1)))\n",
    "}\n",
    "\n",
    "for name, metric in metrics.items():\n",
    "    metric.attach(train_evaluator, name)\n",
    "\n",
    "for name, metric in metrics.items():\n",
    "    metric.attach(val_evaluator, name)\n",
    "\n",
    "\n",
    "# checkpoint_handler = ModelCheckpoint(dirname='saved_models', filename_prefix='best',\n",
    "#                                      n_saved=1, require_empty=False,\n",
    "#                                      score_function=lambda engine: engine.state.metrics['accuracy'],\n",
    "#                                      score_name=\"accuracy\", global_step_transform=lambda *_: trainer.state.epoch)\n",
    "# val_evaluator.add_event_handler(Events.EPOCH_COMPLETED, checkpoint_handler, {\"model\": model})\n",
    "\n",
    "\n",
    "### Logging\n",
    "@trainer.on(Events.ITERATION_COMPLETED)\n",
    "def log_training_loss(trainer):\n",
    "    batch_loss = trainer.state.output\n",
    "    print(\"Training Results - Avg loss: {:.4f}\".format(batch_loss))\n",
    "    wandb.log({\"train_loss\": batch_loss})\n",
    "    \n",
    "@trainer.on(Events.EPOCH_COMPLETED)\n",
    "def log_training_results(trainer):\n",
    "    train_evaluator.run(train_dataloader)\n",
    "    metrics = train_evaluator.state.metrics\n",
    "    print(\"Training Results - Epoch: {}  Avg accuracy: {:.2f} Avg loss: {:.4f}\"\n",
    "          .format(trainer.state.epoch, metrics['accuracy'], metrics['loss']))\n",
    "    wandb.log({\"train_accuracy\": metrics['accuracy'],\n",
    "               \"train_loss\": metrics['loss']})\n",
    "\n",
    "@trainer.on(Events.EPOCH_COMPLETED)\n",
    "def log_validation_results(trainer):\n",
    "    val_evaluator.run(val_dataloader)\n",
    "    metrics = val_evaluator.state.metrics\n",
    "    print(\"Validation Results - Epoch: {}  Avg accuracy: {:.2f} Avg loss: {:.4f}\"\n",
    "          .format(trainer.state.epoch, metrics['accuracy'], metrics['loss']))\n",
    "    wandb.log({\"val_accuracy\": metrics['accuracy'],\n",
    "               \"val_loss\": metrics['loss']})\n",
    "\n",
    "\n",
    "# Run the training loop\n",
    "trainer.run(train_dataloader, max_epochs=config['train']['n_epoch'])\n",
    "wandb.finish()"
   ]
  },
  {
   "cell_type": "code",
   "execution_count": 82,
   "metadata": {},
   "outputs": [
    {
     "name": "stdout",
     "output_type": "stream",
     "text": [
      "Number of parameters in transformer_encoder: 434596\n",
      "Number of parameters in fc layer: 25101\n"
     ]
    }
   ],
   "source": [
    "# Count the number of parameters in the transformer_encoder layer\n",
    "transformer_encoder_params = sum(p.numel() for p in model.transformer_encoder.parameters())\n",
    "\n",
    "# Count the number of parameters in the fc layer\n",
    "fc_params = sum(p.numel() for p in model.fc.parameters())\n",
    "\n",
    "print(\"Number of parameters in transformer_encoder:\", transformer_encoder_params)\n",
    "print(\"Number of parameters in fc layer:\", fc_params)\n"
   ]
  }
 ],
 "metadata": {
  "kernelspec": {
   "display_name": "ts_robustness",
   "language": "python",
   "name": "python3"
  },
  "language_info": {
   "codemirror_mode": {
    "name": "ipython",
    "version": 3
   },
   "file_extension": ".py",
   "mimetype": "text/x-python",
   "name": "python",
   "nbconvert_exporter": "python",
   "pygments_lexer": "ipython3",
   "version": "3.11.8"
  }
 },
 "nbformat": 4,
 "nbformat_minor": 2
}
