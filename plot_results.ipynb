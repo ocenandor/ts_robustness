{
 "cells": [
  {
   "cell_type": "code",
   "execution_count": 166,
   "metadata": {},
   "outputs": [],
   "source": [
    "import json\n",
    "import os\n",
    "import sys\n",
    "from glob import glob\n",
    "from pathlib import Path\n",
    "\n",
    "import numpy as np\n",
    "import pandas as pd\n",
    "import seaborn as sns\n",
    "\n",
    "from tools.attack import ATTACKS, MODELS, test"
   ]
  },
  {
   "cell_type": "code",
   "execution_count": 115,
   "metadata": {},
   "outputs": [],
   "source": [
    "def open_config(file):\n",
    "    with open(file) as f:\n",
    "        config =  json.load(f)\n",
    "\n",
    "    return config"
   ]
  },
  {
   "cell_type": "code",
   "execution_count": 116,
   "metadata": {},
   "outputs": [],
   "source": [
    "configs = list(map(open_config, glob('configs/*.json')))\n",
    "weights = (((glob('models/*.pt'))))\n"
   ]
  },
  {
   "cell_type": "code",
   "execution_count": 117,
   "metadata": {},
   "outputs": [
    {
     "name": "stderr",
     "output_type": "stream",
     "text": [
      "100%|██████████| 20/20 [00:00<00:00, 48.83it/s]\n",
      "100%|██████████| 20/20 [00:00<00:00, 307.67it/s]\n",
      "100%|██████████| 20/20 [00:00<00:00, 27.99it/s]\n",
      "100%|██████████| 20/20 [00:03<00:00,  5.73it/s]\n",
      "100%|██████████| 20/20 [00:12<00:00,  1.65it/s]\n",
      "100%|██████████| 20/20 [00:07<00:00,  2.78it/s]\n",
      "100%|██████████| 20/20 [00:00<00:00, 65.46it/s]\n",
      "100%|██████████| 20/20 [00:00<00:00, 125.44it/s]\n",
      "100%|██████████| 20/20 [00:00<00:00, 43.38it/s]\n"
     ]
    }
   ],
   "source": [
    "methods = {\n",
    "    'deepfool': [0.02, 50],\n",
    "    'simba': [0.05, 500],\n",
    "    'bim': [0.02, 50]\n",
    "    }\n",
    "\n",
    "dfs = []\n",
    "for method in methods:\n",
    "    results = {}\n",
    "    for i in range(len(configs)):\n",
    "        iters = np.array(test(configs[i], weights[i], method, *methods[method]))\n",
    "        model_name = configs[i]['model']['name']\n",
    "        results[model_name] = iters\n",
    "    dfs.append(pd.DataFrame(results))\n"
   ]
  },
  {
   "cell_type": "code",
   "execution_count": 131,
   "metadata": {},
   "outputs": [
    {
     "data": {
      "text/plain": [
       "0     3\n",
       "1     3\n",
       "2     5\n",
       "3     7\n",
       "4     8\n",
       "5     7\n",
       "6     7\n",
       "7     5\n",
       "8     5\n",
       "9     4\n",
       "10    6\n",
       "11    5\n",
       "12    4\n",
       "13    5\n",
       "14    5\n",
       "15    6\n",
       "16    4\n",
       "17    4\n",
       "18    4\n",
       "19    5\n",
       "Name: cnn, dtype: int32"
      ]
     },
     "execution_count": 131,
     "metadata": {},
     "output_type": "execute_result"
    }
   ],
   "source": [
    "dfs[0]['cnn']"
   ]
  },
  {
   "cell_type": "code",
   "execution_count": 128,
   "metadata": {},
   "outputs": [],
   "source": [
    "import scipy"
   ]
  },
  {
   "cell_type": "code",
   "execution_count": 135,
   "metadata": {},
   "outputs": [
    {
     "data": {
      "text/plain": [
       "array([3, 3, 5, 7, 8, 7, 7, 5, 5, 4, 6, 5, 4, 5, 5, 6, 4, 4, 4, 5])"
      ]
     },
     "execution_count": 135,
     "metadata": {},
     "output_type": "execute_result"
    }
   ],
   "source": [
    "dfs[0]['cnn'].values"
   ]
  },
  {
   "cell_type": "code",
   "execution_count": 144,
   "metadata": {},
   "outputs": [],
   "source": [
    "res = scipy.stats.bootstrap([dfs[1]['cnn'].values], np.mean)"
   ]
  },
  {
   "cell_type": "code",
   "execution_count": 159,
   "metadata": {},
   "outputs": [
    {
     "data": {
      "text/plain": [
       "29.850000000000023"
      ]
     },
     "execution_count": 159,
     "metadata": {},
     "output_type": "execute_result"
    }
   ],
   "source": [
    "res.confidence_interval.high - dfs[1]['cnn'].mean()"
   ]
  },
  {
   "cell_type": "code",
   "execution_count": 160,
   "metadata": {},
   "outputs": [
    {
     "data": {
      "text/plain": [
       "-33.648765273470275"
      ]
     },
     "execution_count": 160,
     "metadata": {},
     "output_type": "execute_result"
    }
   ],
   "source": [
    "res.confidence_interval.low - dfs[1]['cnn'].mean()"
   ]
  },
  {
   "cell_type": "code",
   "execution_count": 161,
   "metadata": {},
   "outputs": [
    {
     "data": {
      "text/plain": [
       "-33.668197216664566"
      ]
     },
     "execution_count": 161,
     "metadata": {},
     "output_type": "execute_result"
    }
   ],
   "source": [
    "res.confidence_interval.low - res.bootstrap_distribution.mean()"
   ]
  },
  {
   "cell_type": "markdown",
   "metadata": {},
   "source": [
    "## Create num_methods $\\times$ num_models tables"
   ]
  },
  {
   "cell_type": "code",
   "execution_count": 113,
   "metadata": {},
   "outputs": [
    {
     "data": {
      "text/html": [
       "<div>\n",
       "<style scoped>\n",
       "    .dataframe tbody tr th:only-of-type {\n",
       "        vertical-align: middle;\n",
       "    }\n",
       "\n",
       "    .dataframe tbody tr th {\n",
       "        vertical-align: top;\n",
       "    }\n",
       "\n",
       "    .dataframe thead th {\n",
       "        text-align: right;\n",
       "    }\n",
       "</style>\n",
       "<table border=\"1\" class=\"dataframe\">\n",
       "  <thead>\n",
       "    <tr style=\"text-align: right;\">\n",
       "      <th></th>\n",
       "      <th>cnn</th>\n",
       "      <th>lstm</th>\n",
       "      <th>transformer</th>\n",
       "    </tr>\n",
       "  </thead>\n",
       "  <tbody>\n",
       "    <tr>\n",
       "      <th>deepfool</th>\n",
       "      <td>5.10</td>\n",
       "      <td>1.00</td>\n",
       "      <td>4.45</td>\n",
       "    </tr>\n",
       "    <tr>\n",
       "      <th>simba</th>\n",
       "      <td>236.35</td>\n",
       "      <td>499.00</td>\n",
       "      <td>5.75</td>\n",
       "    </tr>\n",
       "    <tr>\n",
       "      <th>bim</th>\n",
       "      <td>15.70</td>\n",
       "      <td>5.55</td>\n",
       "      <td>7.10</td>\n",
       "    </tr>\n",
       "  </tbody>\n",
       "</table>\n",
       "</div>"
      ],
      "text/plain": [
       "             cnn    lstm  transformer\n",
       "deepfool    5.10    1.00         4.45\n",
       "simba     236.35  499.00         5.75\n",
       "bim        15.70    5.55         7.10"
      ]
     },
     "execution_count": 113,
     "metadata": {},
     "output_type": "execute_result"
    }
   ],
   "source": [
    "mean_df = list(map(lambda x: pd.DataFrame(x.mean()).T, dfs))\n",
    "merged_df = pd.concat(mean_df)\n",
    "merged_df.index = methods.keys()\n",
    "merged_df"
   ]
  },
  {
   "cell_type": "code",
   "execution_count": 123,
   "metadata": {},
   "outputs": [
    {
     "data": {
      "text/html": [
       "<div>\n",
       "<style scoped>\n",
       "    .dataframe tbody tr th:only-of-type {\n",
       "        vertical-align: middle;\n",
       "    }\n",
       "\n",
       "    .dataframe tbody tr th {\n",
       "        vertical-align: top;\n",
       "    }\n",
       "\n",
       "    .dataframe thead th {\n",
       "        text-align: right;\n",
       "    }\n",
       "</style>\n",
       "<table border=\"1\" class=\"dataframe\">\n",
       "  <thead>\n",
       "    <tr style=\"text-align: right;\">\n",
       "      <th></th>\n",
       "      <th>cnn</th>\n",
       "      <th>lstm</th>\n",
       "      <th>transformer</th>\n",
       "    </tr>\n",
       "  </thead>\n",
       "  <tbody>\n",
       "    <tr>\n",
       "      <th>deepfool</th>\n",
       "      <td>1.372665</td>\n",
       "      <td>0.00000</td>\n",
       "      <td>10.515527</td>\n",
       "    </tr>\n",
       "    <tr>\n",
       "      <th>simba</th>\n",
       "      <td>74.853453</td>\n",
       "      <td>0.00000</td>\n",
       "      <td>4.725073</td>\n",
       "    </tr>\n",
       "    <tr>\n",
       "      <th>bim</th>\n",
       "      <td>9.723006</td>\n",
       "      <td>3.88621</td>\n",
       "      <td>10.212995</td>\n",
       "    </tr>\n",
       "  </tbody>\n",
       "</table>\n",
       "</div>"
      ],
      "text/plain": [
       "                cnn     lstm  transformer\n",
       "deepfool   1.372665  0.00000    10.515527\n",
       "simba     74.853453  0.00000     4.725073\n",
       "bim        9.723006  3.88621    10.212995"
      ]
     },
     "execution_count": 123,
     "metadata": {},
     "output_type": "execute_result"
    }
   ],
   "source": [
    "mean_df = list(map(lambda x: pd.DataFrame(x.std()).T, dfs))\n",
    "merged_df = pd.concat(mean_df)\n",
    "merged_df.index = methods.keys()\n",
    "merged_df"
   ]
  },
  {
   "cell_type": "code",
   "execution_count": 127,
   "metadata": {},
   "outputs": [
    {
     "data": {
      "text/html": [
       "<div>\n",
       "<style scoped>\n",
       "    .dataframe tbody tr th:only-of-type {\n",
       "        vertical-align: middle;\n",
       "    }\n",
       "\n",
       "    .dataframe tbody tr th {\n",
       "        vertical-align: top;\n",
       "    }\n",
       "\n",
       "    .dataframe thead th {\n",
       "        text-align: right;\n",
       "    }\n",
       "</style>\n",
       "<table border=\"1\" class=\"dataframe\">\n",
       "  <thead>\n",
       "    <tr style=\"text-align: right;\">\n",
       "      <th></th>\n",
       "      <th>cnn</th>\n",
       "      <th>lstm</th>\n",
       "      <th>transformer</th>\n",
       "    </tr>\n",
       "  </thead>\n",
       "  <tbody>\n",
       "    <tr>\n",
       "      <th>deepfool</th>\n",
       "      <td>5.0</td>\n",
       "      <td>1.0</td>\n",
       "      <td>2.0</td>\n",
       "    </tr>\n",
       "    <tr>\n",
       "      <th>simba</th>\n",
       "      <td>300.0</td>\n",
       "      <td>499.0</td>\n",
       "      <td>4.5</td>\n",
       "    </tr>\n",
       "    <tr>\n",
       "      <th>bim</th>\n",
       "      <td>15.5</td>\n",
       "      <td>4.0</td>\n",
       "      <td>5.0</td>\n",
       "    </tr>\n",
       "  </tbody>\n",
       "</table>\n",
       "</div>"
      ],
      "text/plain": [
       "            cnn   lstm  transformer\n",
       "deepfool    5.0    1.0          2.0\n",
       "simba     300.0  499.0          4.5\n",
       "bim        15.5    4.0          5.0"
      ]
     },
     "execution_count": 127,
     "metadata": {},
     "output_type": "execute_result"
    }
   ],
   "source": [
    "mean_df = list(map(lambda x: pd.DataFrame(x.median()).T, dfs))\n",
    "merged_df = pd.concat(mean_df)\n",
    "merged_df.index = methods.keys()\n",
    "merged_df"
   ]
  },
  {
   "cell_type": "code",
   "execution_count": 164,
   "metadata": {},
   "outputs": [
    {
     "data": {
      "text/plain": [
       "<Axes: xlabel='lstm', ylabel='Count'>"
      ]
     },
     "execution_count": 164,
     "metadata": {},
     "output_type": "execute_result"
    },
    {
     "data": {
      "image/png": "[encoded data removed]",
      "text/plain": [
       "<Figure size 640x480 with 1 Axes>"
      ]
     },
     "metadata": {},
     "output_type": "display_data"
    }
   ],
   "source": [
    "sns.histplot(data=dfs[2]['lstm'], kde=True)"
   ]
  }
 ],
 "metadata": {
  "kernelspec": {
   "display_name": "ts_robustness",
   "language": "python",
   "name": "python3"
  },
  "language_info": {
   "codemirror_mode": {
    "name": "ipython",
    "version": 3
   },
   "file_extension": ".py",
   "mimetype": "text/x-python",
   "name": "python",
   "nbconvert_exporter": "python",
   "pygments_lexer": "ipython3",
   "version": "3.11.8"
  }
 },
 "nbformat": 4,
 "nbformat_minor": 2
}
